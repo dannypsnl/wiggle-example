{
 "cells": [
  {
   "cell_type": "code",
   "execution_count": 1,
   "id": "628fc4a9-9fc3-4413-99a3-7bd1e05ba416",
   "metadata": {},
   "outputs": [],
   "source": [
    "import warnings\n",
    "warnings.filterwarnings('ignore')"
   ]
  },
  {
   "cell_type": "code",
   "execution_count": 2,
   "id": "c5171849-08bb-4304-bd8c-b1b133a3beae",
   "metadata": {},
   "outputs": [],
   "source": [
    "from huygens.namespace import *\n",
    "pink = color.rgba(1.0, 0.37, 0.36, 0.5)\n",
    "grey = color.rgba(0.85, 0.85, 0.85, 0.5)\n",
    "cream = color.rgba(1.0, 1.0, 0.92, 0.5)\n",
    "cyan = color.rgba(0.0, 0.81, 0.80, 0.5)\n",
    "yellow = color.rgba(1.0, 0.93, 0.4, 0.5)"
   ]
  },
  {
   "cell_type": "code",
   "execution_count": 3,
   "id": "e37c0f27-b92b-459e-b62d-da8405abf0a8",
   "metadata": {},
   "outputs": [
    {
     "data": {
      "image/svg+xml": [
       "<?xml version=\"1.0\" encoding=\"UTF-8\"?>\n",
       "<svg xmlns=\"http://www.w3.org/2000/svg\" xmlns:xlink=\"http://www.w3.org/1999/xlink\" width=\"72\" height=\"54\" viewBox=\"0 0 72 54\">\n",
       "<path fill-rule=\"evenodd\" fill=\"rgb(100%, 93%, 40%)\" fill-opacity=\"0.5\" d=\"M 36 27 C 36 14.5 36 14.5 36 2 C 18.5 2 9.75 2 1 2 C 1 27 1 27 1 52 C 9.75 52 18.5 52 36 52 C 53.5 52 62.25 52 71 52 C 71 27 71 27 71 2 C 62.25 2 53.5 2 36 2 C 36 14.5 36 14.5 36 27 Z M 36 27 \"/>\n",
       "<path fill=\"none\" stroke-width=\"1.133858\" stroke-linecap=\"butt\" stroke-linejoin=\"miter\" stroke=\"rgb(0%, 0%, 0%)\" stroke-opacity=\"1\" stroke-miterlimit=\"10\" d=\"M 50 -75 C 50 -62.5 50 -62.5 50 -50 \" transform=\"matrix(1, 0, 0, 1, -14, 77)\"/>\n",
       "<path fill=\"none\" stroke-width=\"1.133858\" stroke-linecap=\"butt\" stroke-linejoin=\"miter\" stroke=\"rgb(0%, 0%, 0%)\" stroke-opacity=\"1\" stroke-miterlimit=\"10\" d=\"M 50 -25 C 50 -37.5 50 -37.5 50 -50 \" transform=\"matrix(1, 0, 0, 1, -14, 77)\"/>\n",
       "<path fill=\"none\" stroke-width=\"0.566929\" stroke-linecap=\"butt\" stroke-linejoin=\"miter\" stroke=\"rgb(0%, 0%, 0%)\" stroke-opacity=\"1\" stroke-miterlimit=\"10\" d=\"M 85.261719 -75 C 76.25 -75 67.5 -75 49.476562 -75 \" transform=\"matrix(1, 0, 0, 1, -14, 77)\"/>\n",
       "<path fill=\"none\" stroke-width=\"0.566929\" stroke-linecap=\"butt\" stroke-linejoin=\"miter\" stroke=\"rgb(0%, 0%, 0%)\" stroke-opacity=\"1\" stroke-miterlimit=\"10\" d=\"M 14.738281 -75 C 23.75 -75 32.5 -75 50.523438 -75 \" transform=\"matrix(1, 0, 0, 1, -14, 77)\"/>\n",
       "<path fill=\"none\" stroke-width=\"0.566929\" stroke-linecap=\"butt\" stroke-linejoin=\"miter\" stroke=\"rgb(0%, 0%, 0%)\" stroke-opacity=\"1\" stroke-miterlimit=\"10\" d=\"M 14.738281 -25 C 23.75 -25 32.5 -25 50.523438 -25 \" transform=\"matrix(1, 0, 0, 1, -14, 77)\"/>\n",
       "<path fill=\"none\" stroke-width=\"0.566929\" stroke-linecap=\"butt\" stroke-linejoin=\"miter\" stroke=\"rgb(0%, 0%, 0%)\" stroke-opacity=\"1\" stroke-miterlimit=\"10\" d=\"M 85.261719 -25 C 76.25 -25 67.5 -25 49.476562 -25 \" transform=\"matrix(1, 0, 0, 1, -14, 77)\"/>\n",
       "<path fill-rule=\"evenodd\" fill=\"rgb(0%, 0%, 0%)\" fill-opacity=\"1\" d=\"M 37.699219 52 C 37.699219 49.730469 34.300781 49.730469 34.300781 52 C 34.300781 54.269531 37.699219 54.269531 37.699219 52 Z M 37.699219 52 \"/>\n",
       "<path fill-rule=\"evenodd\" fill=\"rgb(0%, 0%, 0%)\" fill-opacity=\"1\" d=\"M 37.699219 2 C 37.699219 -0.269531 34.300781 -0.269531 34.300781 2 C 34.300781 4.269531 37.699219 4.269531 37.699219 2 Z M 37.699219 2 \"/>\n",
       "</svg>\n"
      ],
      "text/plain": [
       "Cell1((C<---C))"
      ]
     },
     "execution_count": 3,
     "metadata": {},
     "output_type": "execute_result"
    }
   ],
   "source": [
    "from huygens.wiggle import Cell0, Cell1, Cell2\n",
    "C = Cell0(\"C\", fill=yellow)\n",
    "M = Cell1(C, C)\n",
    "M"
   ]
  },
  {
   "cell_type": "code",
   "execution_count": 4,
   "id": "d07d53a9-5d66-46bb-8638-01b879b14d07",
   "metadata": {},
   "outputs": [
    {
     "data": {
      "image/svg+xml": [
       "<?xml version=\"1.0\" encoding=\"UTF-8\"?>\n",
       "<svg xmlns=\"http://www.w3.org/2000/svg\" xmlns:xlink=\"http://www.w3.org/1999/xlink\" width=\"72\" height=\"54\" viewBox=\"0 0 72 54\">\n",
       "<path fill-rule=\"evenodd\" fill=\"rgb(100%, 93%, 40%)\" fill-opacity=\"0.5\" d=\"M 36 27 C 43 27 53.5 12 53.5 2 C 44.75 2 40.375 2 36 2 C 31.625 2 27.25 2 18.5 2 C 9.75 2 5.375 2 1 2 C 1 27 1 27 1 52 C 9.75 52 18.5 52 36 52 C 53.5 52 62.25 52 71 52 C 71 27 71 27 71 2 C 66.625 2 62.25 2 53.5 2 C 53.5 12 43 27 36 27 Z M 36 27 \"/>\n",
       "<path fill=\"none\" stroke-width=\"0.566929\" stroke-linecap=\"butt\" stroke-linejoin=\"miter\" stroke=\"rgb(0%, 0%, 0%)\" stroke-opacity=\"1\" stroke-miterlimit=\"10\" d=\"M 85.261719 -25 C 76.25 -25 67.5 -25 49.476562 -25 \" transform=\"matrix(1, 0, 0, 1, -14, 77)\"/>\n",
       "<path fill=\"none\" stroke-width=\"0.566929\" stroke-linecap=\"butt\" stroke-linejoin=\"miter\" stroke=\"rgb(0%, 0%, 0%)\" stroke-opacity=\"1\" stroke-miterlimit=\"10\" d=\"M 49.867188 -75 C 54.375 -75 58.75 -75 67.761719 -75 \" transform=\"matrix(1, 0, 0, 1, -14, 77)\"/>\n",
       "<path fill=\"none\" stroke-width=\"0.566929\" stroke-linecap=\"butt\" stroke-linejoin=\"miter\" stroke=\"rgb(0%, 0%, 0%)\" stroke-opacity=\"1\" stroke-miterlimit=\"10\" d=\"M 14.867188 -75 C 19.375 -75 23.75 -75 32.761719 -75 \" transform=\"matrix(1, 0, 0, 1, -14, 77)\"/>\n",
       "<path fill=\"none\" stroke-width=\"1.133858\" stroke-linecap=\"butt\" stroke-linejoin=\"miter\" stroke=\"rgb(0%, 0%, 0%)\" stroke-opacity=\"1\" stroke-miterlimit=\"10\" d=\"M 67.5 -75 C 67.5 -65 57 -50 50 -50 \" transform=\"matrix(1, 0, 0, 1, -14, 77)\"/>\n",
       "<path fill=\"none\" stroke-width=\"0.566929\" stroke-linecap=\"butt\" stroke-linejoin=\"miter\" stroke=\"rgb(0%, 0%, 0%)\" stroke-opacity=\"1\" stroke-miterlimit=\"10\" d=\"M 50.132812 -75 C 45.625 -75 41.25 -75 32.238281 -75 \" transform=\"matrix(1, 0, 0, 1, -14, 77)\"/>\n",
       "<path fill=\"none\" stroke-width=\"1.133858\" stroke-linecap=\"butt\" stroke-linejoin=\"miter\" stroke=\"rgb(0%, 0%, 0%)\" stroke-opacity=\"1\" stroke-miterlimit=\"10\" d=\"M 32.5 -75 C 32.5 -65 43 -50 50 -50 \" transform=\"matrix(1, 0, 0, 1, -14, 77)\"/>\n",
       "<path fill=\"none\" stroke-width=\"0.566929\" stroke-linecap=\"butt\" stroke-linejoin=\"miter\" stroke=\"rgb(0%, 0%, 0%)\" stroke-opacity=\"1\" stroke-miterlimit=\"10\" d=\"M 85.132812 -75 C 80.625 -75 76.25 -75 67.238281 -75 \" transform=\"matrix(1, 0, 0, 1, -14, 77)\"/>\n",
       "<path fill=\"none\" stroke-width=\"0.566929\" stroke-linecap=\"butt\" stroke-linejoin=\"miter\" stroke=\"rgb(0%, 0%, 0%)\" stroke-opacity=\"1\" stroke-miterlimit=\"10\" d=\"M 14.738281 -25 C 23.75 -25 32.5 -25 50.523438 -25 \" transform=\"matrix(1, 0, 0, 1, -14, 77)\"/>\n",
       "<path fill=\"none\" stroke-width=\"1.133858\" stroke-linecap=\"butt\" stroke-linejoin=\"miter\" stroke=\"rgb(0%, 0%, 0%)\" stroke-opacity=\"1\" stroke-miterlimit=\"10\" d=\"M 50 -25 C 50 -35 50 -50 50 -50 \" transform=\"matrix(1, 0, 0, 1, -14, 77)\"/>\n",
       "<path fill-rule=\"evenodd\" fill=\"rgb(0%, 0%, 0%)\" fill-opacity=\"1\" d=\"M 20.199219 2 C 20.199219 -0.269531 16.800781 -0.269531 16.800781 2 C 16.800781 4.269531 20.199219 4.269531 20.199219 2 Z M 20.199219 2 \"/>\n",
       "<path fill-rule=\"evenodd\" fill=\"rgb(0%, 0%, 0%)\" fill-opacity=\"1\" d=\"M 55.199219 2 C 55.199219 -0.269531 51.800781 -0.269531 51.800781 2 C 51.800781 4.269531 55.199219 4.269531 55.199219 2 Z M 55.199219 2 \"/>\n",
       "<path fill-rule=\"evenodd\" fill=\"rgb(0%, 0%, 0%)\" fill-opacity=\"1\" d=\"M 38.269531 27 C 38.269531 23.976562 33.730469 23.976562 33.730469 27 C 33.730469 30.023438 38.269531 30.023438 38.269531 27 Z M 38.269531 27 \"/>\n",
       "<path fill-rule=\"evenodd\" fill=\"rgb(0%, 0%, 0%)\" fill-opacity=\"1\" d=\"M 37.699219 52 C 37.699219 49.730469 34.300781 49.730469 34.300781 52 C 34.300781 54.269531 37.699219 54.269531 37.699219 52 Z M 37.699219 52 \"/>\n",
       "</svg>\n"
      ],
      "text/plain": [
       "Cell2((((C<---C)<<(C<---C))<===(C<---C)))"
      ]
     },
     "execution_count": 4,
     "metadata": {},
     "output_type": "execute_result"
    }
   ],
   "source": [
    "mu = Cell2(M << M, M)\n",
    "mu"
   ]
  }
 ],
 "metadata": {
  "kernelspec": {
   "display_name": "venv",
   "language": "python",
   "name": "venv"
  },
  "language_info": {
   "codemirror_mode": {
    "name": "ipython",
    "version": 3
   },
   "file_extension": ".py",
   "mimetype": "text/x-python",
   "name": "python",
   "nbconvert_exporter": "python",
   "pygments_lexer": "ipython3",
   "version": "3.12.5"
  }
 },
 "nbformat": 4,
 "nbformat_minor": 5
}
