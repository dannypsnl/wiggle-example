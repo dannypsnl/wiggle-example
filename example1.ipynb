{
 "cells": [
  {
   "cell_type": "code",
   "execution_count": 1,
   "id": "2e054a72-9a8c-498f-a934-07f864dc6ffe",
   "metadata": {},
   "outputs": [],
   "source": [
    "import warnings\n",
    "warnings.filterwarnings('ignore')"
   ]
  },
  {
   "cell_type": "code",
   "execution_count": 2,
   "id": "df3d8df3-4b80-42f6-a77f-6016a2c57e17",
   "metadata": {},
   "outputs": [],
   "source": [
    "from huygens.namespace import *\n",
    "pink = color.rgba(1.0, 0.37, 0.36, 0.5)\n",
    "grey = color.rgba(0.85, 0.85, 0.85, 0.5)\n",
    "cream = color.rgba(1.0, 1.0, 0.92, 0.5)\n",
    "cyan = color.rgba(0.0, 0.81, 0.80, 0.5)\n",
    "yellow = color.rgba(1.0, 0.93, 0.4, 0.5)"
   ]
  },
  {
   "cell_type": "code",
   "execution_count": 3,
   "id": "6cff7c97-72cd-406e-9727-5113031cdd40",
   "metadata": {},
   "outputs": [
    {
     "data": {
      "image/svg+xml": [
       "<?xml version=\"1.0\" encoding=\"UTF-8\"?>\n",
       "<svg xmlns=\"http://www.w3.org/2000/svg\" xmlns:xlink=\"http://www.w3.org/1999/xlink\" width=\"72\" height=\"52\" viewBox=\"0 0 72 52\">\n",
       "<path fill-rule=\"evenodd\" fill=\"rgb(100%, 37%, 36%)\" fill-opacity=\"0.5\" d=\"M 36 26 C 36 13.5 36 13.5 36 1 C 18.5 1 9.75 1 1 1 C 1 26 1 26 1 51 C 9.75 51 18.5 51 36 51 C 53.5 51 62.25 51 71 51 C 71 26 71 26 71 1 C 62.25 1 53.5 1 36 1 C 36 13.5 36 13.5 36 26 Z M 36 26 \"/>\n",
       "<path fill=\"none\" stroke-width=\"0.566929\" stroke-linecap=\"butt\" stroke-linejoin=\"miter\" stroke=\"rgb(0%, 0%, 0%)\" stroke-opacity=\"1\" stroke-miterlimit=\"10\" d=\"M 85.261719 -75 C 76.25 -75 67.5 -75 49.476562 -75 \" transform=\"matrix(1, 0, 0, 1, -14, 76)\"/>\n",
       "<path fill=\"none\" stroke-width=\"0.566929\" stroke-linecap=\"butt\" stroke-linejoin=\"miter\" stroke=\"rgb(0%, 0%, 0%)\" stroke-opacity=\"1\" stroke-miterlimit=\"10\" d=\"M 85.261719 -25 C 76.25 -25 67.5 -25 49.476562 -25 \" transform=\"matrix(1, 0, 0, 1, -14, 76)\"/>\n",
       "<path fill=\"none\" stroke-width=\"0.566929\" stroke-linecap=\"butt\" stroke-linejoin=\"miter\" stroke=\"rgb(0%, 0%, 0%)\" stroke-opacity=\"1\" stroke-miterlimit=\"10\" d=\"M 14.738281 -25 C 23.75 -25 32.5 -25 50.523438 -25 \" transform=\"matrix(1, 0, 0, 1, -14, 76)\"/>\n",
       "<path fill=\"none\" stroke-width=\"0.566929\" stroke-linecap=\"butt\" stroke-linejoin=\"miter\" stroke=\"rgb(0%, 0%, 0%)\" stroke-opacity=\"1\" stroke-miterlimit=\"10\" d=\"M 14.738281 -75 C 23.75 -75 32.5 -75 50.523438 -75 \" transform=\"matrix(1, 0, 0, 1, -14, 76)\"/>\n",
       "</svg>\n"
      ],
      "text/plain": [
       "Cell0(n)"
      ]
     },
     "execution_count": 3,
     "metadata": {},
     "output_type": "execute_result"
    }
   ],
   "source": [
    "from huygens.wiggle import Cell0, Cell1, Cell2\n",
    "n = Cell0(\"n\", fill=pink)\n",
    "n"
   ]
  }
 ],
 "metadata": {
  "kernelspec": {
   "display_name": "Python 3 (ipykernel)",
   "language": "python",
   "name": "python3"
  },
  "language_info": {
   "codemirror_mode": {
    "name": "ipython",
    "version": 3
   },
   "file_extension": ".py",
   "mimetype": "text/x-python",
   "name": "python",
   "nbconvert_exporter": "python",
   "pygments_lexer": "ipython3",
   "version": "3.12.4"
  }
 },
 "nbformat": 4,
 "nbformat_minor": 5
}
