{
 "cells": [
  {
   "cell_type": "code",
   "execution_count": 1,
   "id": "2e054a72-9a8c-498f-a934-07f864dc6ffe",
   "metadata": {},
   "outputs": [],
   "source": [
    "import warnings\n",
    "warnings.filterwarnings('ignore')"
   ]
  },
  {
   "cell_type": "code",
   "execution_count": 2,
   "id": "df3d8df3-4b80-42f6-a77f-6016a2c57e17",
   "metadata": {},
   "outputs": [],
   "source": [
    "from huygens.namespace import *\n",
    "pink = color.rgba(1.0, 0.37, 0.36, 0.5)\n",
    "grey = color.rgba(0.85, 0.85, 0.85, 0.5)\n",
    "cream = color.rgba(1.0, 1.0, 0.92, 0.5)\n",
    "cyan = color.rgba(0.0, 0.81, 0.80, 0.5)\n",
    "yellow = color.rgba(1.0, 0.93, 0.4, 0.5)"
   ]
  },
  {
   "cell_type": "code",
   "execution_count": 3,
   "id": "6cff7c97-72cd-406e-9727-5113031cdd40",
   "metadata": {},
   "outputs": [
    {
     "ename": "ModuleNotFoundError",
     "evalue": "No module named 'cairo'",
     "output_type": "error",
     "traceback": [
      "\u001b[0;31m---------------------------------------------------------------------------\u001b[0m",
      "\u001b[0;31mModuleNotFoundError\u001b[0m                       Traceback (most recent call last)",
      "File \u001b[0;32m~/repo/wiggle-example/lib/python3.12/site-packages/IPython/core/formatters.py:347\u001b[0m, in \u001b[0;36mBaseFormatter.__call__\u001b[0;34m(self, obj)\u001b[0m\n\u001b[1;32m    345\u001b[0m     method \u001b[38;5;241m=\u001b[39m get_real_method(obj, \u001b[38;5;28mself\u001b[39m\u001b[38;5;241m.\u001b[39mprint_method)\n\u001b[1;32m    346\u001b[0m     \u001b[38;5;28;01mif\u001b[39;00m method \u001b[38;5;129;01mis\u001b[39;00m \u001b[38;5;129;01mnot\u001b[39;00m \u001b[38;5;28;01mNone\u001b[39;00m:\n\u001b[0;32m--> 347\u001b[0m         \u001b[38;5;28;01mreturn\u001b[39;00m \u001b[43mmethod\u001b[49m\u001b[43m(\u001b[49m\u001b[43m)\u001b[49m\n\u001b[1;32m    348\u001b[0m     \u001b[38;5;28;01mreturn\u001b[39;00m \u001b[38;5;28;01mNone\u001b[39;00m\n\u001b[1;32m    349\u001b[0m \u001b[38;5;28;01melse\u001b[39;00m:\n",
      "File \u001b[0;32m~/repo/wiggle-example/lib/python3.12/site-packages/huygens/wiggle/cell.py:369\u001b[0m, in \u001b[0;36mAtom._repr_svg_\u001b[0;34m(self)\u001b[0m\n\u001b[1;32m    367\u001b[0m pos \u001b[38;5;241m=\u001b[39m \u001b[38;5;124m\"\u001b[39m\u001b[38;5;124mcenter\u001b[39m\u001b[38;5;124m\"\u001b[39m \u001b[38;5;28;01mif\u001b[39;00m flat \u001b[38;5;28;01melse\u001b[39;00m \u001b[38;5;124m\"\u001b[39m\u001b[38;5;124mnortheast\u001b[39m\u001b[38;5;124m\"\u001b[39m\n\u001b[1;32m    368\u001b[0m item \u001b[38;5;241m=\u001b[39m item\u001b[38;5;241m.\u001b[39mrender_cvs(weld\u001b[38;5;241m=\u001b[39mflat, pos\u001b[38;5;241m=\u001b[39mpos)\n\u001b[0;32m--> 369\u001b[0m svg \u001b[38;5;241m=\u001b[39m \u001b[43mitem\u001b[49m\u001b[38;5;241;43m.\u001b[39;49m\u001b[43m_repr_svg_\u001b[49m\u001b[43m(\u001b[49m\u001b[43m)\u001b[49m\n\u001b[1;32m    370\u001b[0m \u001b[38;5;28;01mreturn\u001b[39;00m svg\n",
      "File \u001b[0;32m~/repo/wiggle-example/lib/python3.12/site-packages/huygens/front/__init__.py:431\u001b[0m, in \u001b[0;36mCanvas._repr_svg_\u001b[0;34m(self)\u001b[0m\n\u001b[1;32m    429\u001b[0m \u001b[38;5;28;01mdef\u001b[39;00m \u001b[38;5;21m_repr_svg_\u001b[39m(\u001b[38;5;28mself\u001b[39m):\n\u001b[1;32m    430\u001b[0m     fd, name \u001b[38;5;241m=\u001b[39m mkstemp(suffix\u001b[38;5;241m=\u001b[39m\u001b[38;5;124m\"\u001b[39m\u001b[38;5;124m.svg\u001b[39m\u001b[38;5;124m\"\u001b[39m)\n\u001b[0;32m--> 431\u001b[0m     \u001b[38;5;28;43mself\u001b[39;49m\u001b[38;5;241;43m.\u001b[39;49m\u001b[43mwriteSVGfile\u001b[49m\u001b[43m(\u001b[49m\u001b[43mname\u001b[49m\u001b[43m)\u001b[49m\n\u001b[1;32m    432\u001b[0m     os\u001b[38;5;241m.\u001b[39mclose(fd)\n\u001b[1;32m    433\u001b[0m     s \u001b[38;5;241m=\u001b[39m \u001b[38;5;28mopen\u001b[39m(name)\u001b[38;5;241m.\u001b[39mread()\n",
      "File \u001b[0;32m~/repo/wiggle-example/lib/python3.12/site-packages/huygens/front/__init__.py:388\u001b[0m, in \u001b[0;36mCanvas.writeSVGfile\u001b[0;34m(self, name)\u001b[0m\n\u001b[1;32m    386\u001b[0m \u001b[38;5;28;01melse\u001b[39;00m:\n\u001b[1;32m    387\u001b[0m     name \u001b[38;5;241m=\u001b[39m name \u001b[38;5;241m+\u001b[39m \u001b[38;5;124m\"\u001b[39m\u001b[38;5;124m.svg\u001b[39m\u001b[38;5;124m\"\u001b[39m\n\u001b[0;32m--> 388\u001b[0m \u001b[38;5;28;01mimport\u001b[39;00m \u001b[38;5;21;01mcairo\u001b[39;00m\n\u001b[1;32m    389\u001b[0m method \u001b[38;5;241m=\u001b[39m cairo\u001b[38;5;241m.\u001b[39mSVGSurface\n\u001b[1;32m    390\u001b[0m surface \u001b[38;5;241m=\u001b[39m \u001b[38;5;28mself\u001b[39m\u001b[38;5;241m.\u001b[39m_write_cairo(method, name)\n",
      "\u001b[0;31mModuleNotFoundError\u001b[0m: No module named 'cairo'"
     ]
    },
    {
     "data": {
      "text/plain": [
       "Cell0(n)"
      ]
     },
     "execution_count": 3,
     "metadata": {},
     "output_type": "execute_result"
    }
   ],
   "source": [
    "from huygens.wiggle import Cell0, Cell1, Cell2\n",
    "n = Cell0(\"n\", fill=pink)\n",
    "n"
   ]
  },
  {
   "cell_type": "code",
   "execution_count": null,
   "id": "0876afe1-3fef-4f86-a8ed-04d712a468bf",
   "metadata": {},
   "outputs": [],
   "source": []
  }
 ],
 "metadata": {
  "kernelspec": {
   "display_name": "Python 3 (ipykernel)",
   "language": "python",
   "name": "python3"
  },
  "language_info": {
   "codemirror_mode": {
    "name": "ipython",
    "version": 3
   },
   "file_extension": ".py",
   "mimetype": "text/x-python",
   "name": "python",
   "nbconvert_exporter": "python",
   "pygments_lexer": "ipython3",
   "version": "3.12.4"
  }
 },
 "nbformat": 4,
 "nbformat_minor": 5
}
