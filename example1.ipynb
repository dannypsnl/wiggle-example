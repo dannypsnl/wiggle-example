{
 "cells": [
  {
   "cell_type": "code",
   "execution_count": 1,
   "id": "2e054a72-9a8c-498f-a934-07f864dc6ffe",
   "metadata": {},
   "outputs": [],
   "source": [
    "import warnings\n",
    "warnings.filterwarnings('ignore')"
   ]
  },
  {
   "cell_type": "code",
   "execution_count": 2,
   "id": "df3d8df3-4b80-42f6-a77f-6016a2c57e17",
   "metadata": {},
   "outputs": [],
   "source": [
    "from huygens.namespace import *\n",
    "pink = color.rgba(1.0, 0.37, 0.36, 0.5)\n",
    "grey = color.rgba(0.85, 0.85, 0.85, 0.5)\n",
    "cream = color.rgba(1.0, 1.0, 0.92, 0.5)\n",
    "cyan = color.rgba(0.0, 0.81, 0.80, 0.5)\n",
    "yellow = color.rgba(1.0, 0.93, 0.4, 0.5)"
   ]
  },
  {
   "cell_type": "code",
   "execution_count": 3,
   "id": "6cff7c97-72cd-406e-9727-5113031cdd40",
   "metadata": {},
   "outputs": [
    {
     "data": {
      "image/svg+xml": [
       "<?xml version=\"1.0\" encoding=\"UTF-8\"?>\n",
       "<svg xmlns=\"http://www.w3.org/2000/svg\" xmlns:xlink=\"http://www.w3.org/1999/xlink\" width=\"72\" height=\"52\" viewBox=\"0 0 72 52\">\n",
       "<path fill-rule=\"evenodd\" fill=\"rgb(100%, 37%, 36%)\" fill-opacity=\"0.5\" d=\"M 36 26 C 36 13.5 36 13.5 36 1 C 18.5 1 9.75 1 1 1 C 1 26 1 26 1 51 C 9.75 51 18.5 51 36 51 C 53.5 51 62.25 51 71 51 C 71 26 71 26 71 1 C 62.25 1 53.5 1 36 1 C 36 13.5 36 13.5 36 26 Z M 36 26 \"/>\n",
       "<path fill=\"none\" stroke-width=\"0.566929\" stroke-linecap=\"butt\" stroke-linejoin=\"miter\" stroke=\"rgb(0%, 0%, 0%)\" stroke-opacity=\"1\" stroke-miterlimit=\"10\" d=\"M 85.261719 -75 C 76.25 -75 67.5 -75 49.476562 -75 \" transform=\"matrix(1, 0, 0, 1, -14, 76)\"/>\n",
       "<path fill=\"none\" stroke-width=\"0.566929\" stroke-linecap=\"butt\" stroke-linejoin=\"miter\" stroke=\"rgb(0%, 0%, 0%)\" stroke-opacity=\"1\" stroke-miterlimit=\"10\" d=\"M 85.261719 -25 C 76.25 -25 67.5 -25 49.476562 -25 \" transform=\"matrix(1, 0, 0, 1, -14, 76)\"/>\n",
       "<path fill=\"none\" stroke-width=\"0.566929\" stroke-linecap=\"butt\" stroke-linejoin=\"miter\" stroke=\"rgb(0%, 0%, 0%)\" stroke-opacity=\"1\" stroke-miterlimit=\"10\" d=\"M 14.738281 -25 C 23.75 -25 32.5 -25 50.523438 -25 \" transform=\"matrix(1, 0, 0, 1, -14, 76)\"/>\n",
       "<path fill=\"none\" stroke-width=\"0.566929\" stroke-linecap=\"butt\" stroke-linejoin=\"miter\" stroke=\"rgb(0%, 0%, 0%)\" stroke-opacity=\"1\" stroke-miterlimit=\"10\" d=\"M 14.738281 -75 C 23.75 -75 32.5 -75 50.523438 -75 \" transform=\"matrix(1, 0, 0, 1, -14, 76)\"/>\n",
       "</svg>\n"
      ],
      "text/plain": [
       "Cell0(n)"
      ]
     },
     "execution_count": 3,
     "metadata": {},
     "output_type": "execute_result"
    }
   ],
   "source": [
    "from huygens.wiggle import Cell0, Cell1, Cell2\n",
    "n = Cell0(\"n\", fill=pink)\n",
    "n"
   ]
  },
  {
   "cell_type": "code",
   "execution_count": 4,
   "id": "3b02821c-9e53-43a6-9209-af3285a1ef67",
   "metadata": {},
   "outputs": [
    {
     "data": {
      "image/svg+xml": [
       "<?xml version=\"1.0\" encoding=\"UTF-8\"?>\n",
       "<svg xmlns=\"http://www.w3.org/2000/svg\" xmlns:xlink=\"http://www.w3.org/1999/xlink\" width=\"72\" height=\"54\" viewBox=\"0 0 72 54\">\n",
       "<path fill-rule=\"evenodd\" fill=\"rgb(100%, 37%, 36%)\" fill-opacity=\"0.5\" d=\"M 71 52 C 62.25 52 53.5 52 36 52 C 36 39.5 36 39.5 36 27 C 36 14.5 36 14.5 36 2 C 53.5 2 62.25 2 71 2 C 71 27 71 27 71 52 Z M 71 52 \"/>\n",
       "<path fill=\"none\" stroke-width=\"0.566929\" stroke-linecap=\"butt\" stroke-linejoin=\"miter\" stroke=\"rgb(0%, 0%, 0%)\" stroke-opacity=\"1\" stroke-miterlimit=\"10\" d=\"M 85.261719 -25 C 76.25 -25 67.5 -25 49.476562 -25 \" transform=\"matrix(1, 0, 0, 1, -14, 77)\"/>\n",
       "<path fill-rule=\"evenodd\" fill=\"rgb(100%, 93%, 40%)\" fill-opacity=\"0.5\" d=\"M 1 52 C 9.75 52 18.5 52 36 52 C 36 39.5 36 39.5 36 27 C 36 14.5 36 14.5 36 2 C 18.5 2 9.75 2 1 2 C 1 27 1 27 1 52 Z M 1 52 \"/>\n",
       "<path fill=\"none\" stroke-width=\"1.133858\" stroke-linecap=\"butt\" stroke-linejoin=\"miter\" stroke=\"rgb(0%, 0%, 0%)\" stroke-opacity=\"1\" stroke-miterlimit=\"10\" d=\"M 50 -75 C 50 -62.5 50 -62.5 50 -50 \" transform=\"matrix(1, 0, 0, 1, -14, 77)\"/>\n",
       "<path fill=\"none\" stroke-width=\"1.133858\" stroke-linecap=\"butt\" stroke-linejoin=\"miter\" stroke=\"rgb(0%, 0%, 0%)\" stroke-opacity=\"1\" stroke-miterlimit=\"10\" d=\"M 50 -25 C 50 -37.5 50 -37.5 50 -50 \" transform=\"matrix(1, 0, 0, 1, -14, 77)\"/>\n",
       "<path fill=\"none\" stroke-width=\"0.566929\" stroke-linecap=\"butt\" stroke-linejoin=\"miter\" stroke=\"rgb(0%, 0%, 0%)\" stroke-opacity=\"1\" stroke-miterlimit=\"10\" d=\"M 14.738281 -75 C 23.75 -75 32.5 -75 50.523438 -75 \" transform=\"matrix(1, 0, 0, 1, -14, 77)\"/>\n",
       "<path fill=\"none\" stroke-width=\"0.566929\" stroke-linecap=\"butt\" stroke-linejoin=\"miter\" stroke=\"rgb(0%, 0%, 0%)\" stroke-opacity=\"1\" stroke-miterlimit=\"10\" d=\"M 85.261719 -75 C 76.25 -75 67.5 -75 49.476562 -75 \" transform=\"matrix(1, 0, 0, 1, -14, 77)\"/>\n",
       "<path fill=\"none\" stroke-width=\"0.566929\" stroke-linecap=\"butt\" stroke-linejoin=\"miter\" stroke=\"rgb(0%, 0%, 0%)\" stroke-opacity=\"1\" stroke-miterlimit=\"10\" d=\"M 14.738281 -25 C 23.75 -25 32.5 -25 50.523438 -25 \" transform=\"matrix(1, 0, 0, 1, -14, 77)\"/>\n",
       "<path fill-rule=\"evenodd\" fill=\"rgb(0%, 0%, 0%)\" fill-opacity=\"1\" d=\"M 37.699219 52 C 37.699219 49.730469 34.300781 49.730469 34.300781 52 C 34.300781 54.269531 37.699219 54.269531 37.699219 52 Z M 37.699219 52 \"/>\n",
       "<path fill-rule=\"evenodd\" fill=\"rgb(0%, 0%, 0%)\" fill-opacity=\"1\" d=\"M 37.699219 2 C 37.699219 -0.269531 34.300781 -0.269531 34.300781 2 C 34.300781 4.269531 37.699219 4.269531 37.699219 2 Z M 37.699219 2 \"/>\n",
       "</svg>\n"
      ],
      "text/plain": [
       "Cell1((m<---n))"
      ]
     },
     "execution_count": 4,
     "metadata": {},
     "output_type": "execute_result"
    }
   ],
   "source": [
    "m = Cell0(\"m\", fill=yellow)\n",
    "A = Cell1(m, n)\n",
    "A"
   ]
  },
  {
   "cell_type": "code",
   "execution_count": 5,
   "id": "8ff7dc83-76d2-4e7c-82b2-55f1f659cc95",
   "metadata": {},
   "outputs": [
    {
     "data": {
      "image/svg+xml": [
       "<?xml version=\"1.0\" encoding=\"UTF-8\"?>\n",
       "<svg xmlns=\"http://www.w3.org/2000/svg\" xmlns:xlink=\"http://www.w3.org/1999/xlink\" width=\"142\" height=\"54\" viewBox=\"0 0 142 54\">\n",
       "<path fill-rule=\"evenodd\" fill=\"rgb(100%, 93%, 40%)\" fill-opacity=\"0.5\" d=\"M 71 52 C 62.25 52 53.5 52 36 52 C 36 39.5 36 39.5 36 27 C 36 14.5 36 14.5 36 2 C 53.5 2 62.25 2 71 2 C 79.75 2 88.5 2 106 2 C 106 14.5 106 14.5 106 27 C 106 39.5 106 39.5 106 52 C 88.5 52 79.75 52 71 52 Z M 71 52 \"/>\n",
       "<path fill-rule=\"evenodd\" fill=\"rgb(100%, 37%, 36%)\" fill-opacity=\"0.5\" d=\"M 1 52 C 9.75 52 18.5 52 36 52 C 36 39.5 36 39.5 36 27 C 36 14.5 36 14.5 36 2 C 18.5 2 9.75 2 1 2 C 1 27 1 27 1 52 Z M 1 52 \"/>\n",
       "<path fill=\"none\" stroke-width=\"1.133858\" stroke-linecap=\"butt\" stroke-linejoin=\"miter\" stroke=\"rgb(0%, 0%, 0%)\" stroke-opacity=\"1\" stroke-miterlimit=\"10\" d=\"M 15 -25 C 15 -37.5 15 -37.5 15 -50 \" transform=\"matrix(1, 0, 0, 1, 21, 77)\"/>\n",
       "<path fill=\"none\" stroke-width=\"1.133858\" stroke-linecap=\"butt\" stroke-linejoin=\"miter\" stroke=\"rgb(0%, 0%, 0%)\" stroke-opacity=\"1\" stroke-miterlimit=\"10\" d=\"M 15 -75 C 15 -62.5 15 -62.5 15 -50 \" transform=\"matrix(1, 0, 0, 1, 21, 77)\"/>\n",
       "<path fill-rule=\"evenodd\" fill=\"rgb(100%, 37%, 36%)\" fill-opacity=\"0.5\" d=\"M 141 52 C 132.25 52 123.5 52 106 52 C 106 39.5 106 39.5 106 27 C 106 14.5 106 14.5 106 2 C 123.5 2 132.25 2 141 2 C 141 27 141 27 141 52 Z M 141 52 \"/>\n",
       "<path fill=\"none\" stroke-width=\"0.566929\" stroke-linecap=\"butt\" stroke-linejoin=\"miter\" stroke=\"rgb(0%, 0%, 0%)\" stroke-opacity=\"1\" stroke-miterlimit=\"10\" d=\"M 50.261719 -75 C 41.25 -75 32.5 -75 14.476562 -75 \" transform=\"matrix(1, 0, 0, 1, 21, 77)\"/>\n",
       "<path fill=\"none\" stroke-width=\"0.566929\" stroke-linecap=\"butt\" stroke-linejoin=\"miter\" stroke=\"rgb(0%, 0%, 0%)\" stroke-opacity=\"1\" stroke-miterlimit=\"10\" d=\"M 120.261719 -75 C 111.25 -75 102.5 -75 84.476562 -75 \" transform=\"matrix(1, 0, 0, 1, 21, 77)\"/>\n",
       "<path fill=\"none\" stroke-width=\"0.566929\" stroke-linecap=\"butt\" stroke-linejoin=\"miter\" stroke=\"rgb(0%, 0%, 0%)\" stroke-opacity=\"1\" stroke-miterlimit=\"10\" d=\"M 49.738281 -25 C 58.75 -25 67.5 -25 85.523438 -25 \" transform=\"matrix(1, 0, 0, 1, 21, 77)\"/>\n",
       "<path fill=\"none\" stroke-width=\"1.133858\" stroke-linecap=\"butt\" stroke-linejoin=\"miter\" stroke=\"rgb(0%, 0%, 0%)\" stroke-opacity=\"1\" stroke-miterlimit=\"10\" d=\"M 85 -75 C 85 -62.5 85 -62.5 85 -50 \" transform=\"matrix(1, 0, 0, 1, 21, 77)\"/>\n",
       "<path fill=\"none\" stroke-width=\"0.566929\" stroke-linecap=\"butt\" stroke-linejoin=\"miter\" stroke=\"rgb(0%, 0%, 0%)\" stroke-opacity=\"1\" stroke-miterlimit=\"10\" d=\"M 50.261719 -25 C 41.25 -25 32.5 -25 14.476562 -25 \" transform=\"matrix(1, 0, 0, 1, 21, 77)\"/>\n",
       "<path fill=\"none\" stroke-width=\"0.566929\" stroke-linecap=\"butt\" stroke-linejoin=\"miter\" stroke=\"rgb(0%, 0%, 0%)\" stroke-opacity=\"1\" stroke-miterlimit=\"10\" d=\"M 120.261719 -25 C 111.25 -25 102.5 -25 84.476562 -25 \" transform=\"matrix(1, 0, 0, 1, 21, 77)\"/>\n",
       "<path fill=\"none\" stroke-width=\"0.566929\" stroke-linecap=\"butt\" stroke-linejoin=\"miter\" stroke=\"rgb(0%, 0%, 0%)\" stroke-opacity=\"1\" stroke-miterlimit=\"10\" d=\"M -20.261719 -25 C -11.25 -25 -2.5 -25 15.523438 -25 \" transform=\"matrix(1, 0, 0, 1, 21, 77)\"/>\n",
       "<path fill=\"none\" stroke-width=\"0.566929\" stroke-linecap=\"butt\" stroke-linejoin=\"miter\" stroke=\"rgb(0%, 0%, 0%)\" stroke-opacity=\"1\" stroke-miterlimit=\"10\" d=\"M 49.738281 -75 C 58.75 -75 67.5 -75 85.523438 -75 \" transform=\"matrix(1, 0, 0, 1, 21, 77)\"/>\n",
       "<path fill=\"none\" stroke-width=\"0.566929\" stroke-linecap=\"butt\" stroke-linejoin=\"miter\" stroke=\"rgb(0%, 0%, 0%)\" stroke-opacity=\"1\" stroke-miterlimit=\"10\" d=\"M -20.261719 -75 C -11.25 -75 -2.5 -75 15.523438 -75 \" transform=\"matrix(1, 0, 0, 1, 21, 77)\"/>\n",
       "<path fill=\"none\" stroke-width=\"1.133858\" stroke-linecap=\"butt\" stroke-linejoin=\"miter\" stroke=\"rgb(0%, 0%, 0%)\" stroke-opacity=\"1\" stroke-miterlimit=\"10\" d=\"M 85 -25 C 85 -37.5 85 -37.5 85 -50 \" transform=\"matrix(1, 0, 0, 1, 21, 77)\"/>\n",
       "<path fill-rule=\"evenodd\" fill=\"rgb(0%, 0%, 0%)\" fill-opacity=\"1\" d=\"M 37.699219 52 C 37.699219 49.730469 34.300781 49.730469 34.300781 52 C 34.300781 54.269531 37.699219 54.269531 37.699219 52 Z M 37.699219 52 \"/>\n",
       "<path fill-rule=\"evenodd\" fill=\"rgb(0%, 0%, 0%)\" fill-opacity=\"1\" d=\"M 37.699219 2 C 37.699219 -0.269531 34.300781 -0.269531 34.300781 2 C 34.300781 4.269531 37.699219 4.269531 37.699219 2 Z M 37.699219 2 \"/>\n",
       "<path fill-rule=\"evenodd\" fill=\"rgb(0%, 0%, 0%)\" fill-opacity=\"1\" d=\"M 107.699219 2 C 107.699219 -0.269531 104.300781 -0.269531 104.300781 2 C 104.300781 4.269531 107.699219 4.269531 107.699219 2 Z M 107.699219 2 \"/>\n",
       "<path fill-rule=\"evenodd\" fill=\"rgb(0%, 0%, 0%)\" fill-opacity=\"1\" d=\"M 107.699219 52 C 107.699219 49.730469 104.300781 49.730469 104.300781 52 C 104.300781 54.269531 107.699219 54.269531 107.699219 52 Z M 107.699219 52 \"/>\n",
       "</svg>\n"
      ],
      "text/plain": [
       "HCell1(((n<---m)<<(m<---n)))"
      ]
     },
     "execution_count": 5,
     "metadata": {},
     "output_type": "execute_result"
    }
   ],
   "source": [
    "B = Cell1(n, m)\n",
    "B<<A"
   ]
  },
  {
   "cell_type": "code",
   "execution_count": 6,
   "id": "b42efe46-9015-4426-b01e-cc94cc861f29",
   "metadata": {},
   "outputs": [
    {
     "data": {
      "image/svg+xml": [
       "<?xml version=\"1.0\" encoding=\"UTF-8\"?>\n",
       "<svg xmlns=\"http://www.w3.org/2000/svg\" xmlns:xlink=\"http://www.w3.org/1999/xlink\" width=\"72\" height=\"54\" viewBox=\"0 0 72 54\">\n",
       "<path fill-rule=\"evenodd\" fill=\"rgb(100%, 93%, 40%)\" fill-opacity=\"0.5\" d=\"M 1 52 C 9.75 52 18.5 52 36 52 C 36 42 36 27 36 27 C 36 27 36 12 36 2 C 18.5 2 9.75 2 1 2 C 1 27 1 27 1 52 Z M 1 52 \"/>\n",
       "<path fill=\"none\" stroke-width=\"0.566929\" stroke-linecap=\"butt\" stroke-linejoin=\"miter\" stroke=\"rgb(0%, 0%, 0%)\" stroke-opacity=\"1\" stroke-miterlimit=\"10\" d=\"M 14.738281 -75 C 23.75 -75 32.5 -75 50.523438 -75 \" transform=\"matrix(1, 0, 0, 1, -14, 77)\"/>\n",
       "<path fill-rule=\"evenodd\" fill=\"rgb(100%, 37%, 36%)\" fill-opacity=\"0.5\" d=\"M 71 52 C 62.25 52 53.5 52 36 52 C 36 42 36 27 36 27 C 36 27 36 12 36 2 C 53.5 2 62.25 2 71 2 C 71 27 71 27 71 52 Z M 71 52 \"/>\n",
       "<path fill=\"none\" stroke-width=\"0.566929\" stroke-linecap=\"butt\" stroke-linejoin=\"miter\" stroke=\"rgb(0%, 0%, 0%)\" stroke-opacity=\"1\" stroke-miterlimit=\"10\" d=\"M 85.261719 -25 C 76.25 -25 67.5 -25 49.476562 -25 \" transform=\"matrix(1, 0, 0, 1, -14, 77)\"/>\n",
       "<path fill=\"none\" stroke-width=\"1.133858\" stroke-linecap=\"butt\" stroke-linejoin=\"miter\" stroke=\"rgb(0%, 0%, 0%)\" stroke-opacity=\"1\" stroke-miterlimit=\"10\" d=\"M 50 -75 C 50 -65 50 -50 50 -50 \" transform=\"matrix(1, 0, 0, 1, -14, 77)\"/>\n",
       "<path fill=\"none\" stroke-width=\"0.566929\" stroke-linecap=\"butt\" stroke-linejoin=\"miter\" stroke=\"rgb(0%, 0%, 0%)\" stroke-opacity=\"1\" stroke-miterlimit=\"10\" d=\"M 85.261719 -75 C 76.25 -75 67.5 -75 49.476562 -75 \" transform=\"matrix(1, 0, 0, 1, -14, 77)\"/>\n",
       "<path fill=\"none\" stroke-width=\"0.566929\" stroke-linecap=\"butt\" stroke-linejoin=\"miter\" stroke=\"rgb(0%, 0%, 0%)\" stroke-opacity=\"1\" stroke-miterlimit=\"10\" d=\"M 14.738281 -25 C 23.75 -25 32.5 -25 50.523438 -25 \" transform=\"matrix(1, 0, 0, 1, -14, 77)\"/>\n",
       "<path fill=\"none\" stroke-width=\"1.133858\" stroke-linecap=\"butt\" stroke-linejoin=\"miter\" stroke=\"rgb(0%, 0%, 0%)\" stroke-opacity=\"1\" stroke-miterlimit=\"10\" d=\"M 50 -25 C 50 -35 50 -50 50 -50 \" transform=\"matrix(1, 0, 0, 1, -14, 77)\"/>\n",
       "<path fill-rule=\"evenodd\" fill=\"rgb(0%, 0%, 0%)\" fill-opacity=\"1\" d=\"M 38.269531 27 C 38.269531 23.976562 33.730469 23.976562 33.730469 27 C 33.730469 30.023438 38.269531 30.023438 38.269531 27 Z M 38.269531 27 \"/>\n",
       "<path fill-rule=\"evenodd\" fill=\"rgb(0%, 0%, 0%)\" fill-opacity=\"1\" d=\"M 37.699219 52 C 37.699219 49.730469 34.300781 49.730469 34.300781 52 C 34.300781 54.269531 37.699219 54.269531 37.699219 52 Z M 37.699219 52 \"/>\n",
       "<path fill-rule=\"evenodd\" fill=\"rgb(0%, 0%, 0%)\" fill-opacity=\"1\" d=\"M 37.699219 2 C 37.699219 -0.269531 34.300781 -0.269531 34.300781 2 C 34.300781 4.269531 37.699219 4.269531 37.699219 2 Z M 37.699219 2 \"/>\n",
       "</svg>\n"
      ],
      "text/plain": [
       "Cell2(((m<---n)<===(m<---n)))"
      ]
     },
     "execution_count": 6,
     "metadata": {},
     "output_type": "execute_result"
    }
   ],
   "source": [
    "f = Cell2(A, A)\n",
    "f"
   ]
  },
  {
   "cell_type": "code",
   "execution_count": 7,
   "id": "313577e8-1886-4cb1-8f89-6b27a9852d4a",
   "metadata": {},
   "outputs": [
    {
     "data": {
      "image/svg+xml": [
       "<?xml version=\"1.0\" encoding=\"UTF-8\"?>\n",
       "<svg xmlns=\"http://www.w3.org/2000/svg\" xmlns:xlink=\"http://www.w3.org/1999/xlink\" width=\"142\" height=\"54\" viewBox=\"0 0 142 54\">\n",
       "<path fill-rule=\"evenodd\" fill=\"rgb(100%, 93%, 40%)\" fill-opacity=\"0.5\" d=\"M 71 52 C 62.25 52 53.5 52 36 52 C 36 42 36 27 36 27 C 36 27 36 12 36 2 C 53.5 2 62.25 2 71 2 C 79.75 2 88.5 2 106 2 C 106 12 106 27 106 27 C 106 27 106 42 106 52 C 88.5 52 79.75 52 71 52 Z M 71 52 \"/>\n",
       "<path fill-rule=\"evenodd\" fill=\"rgb(100%, 37%, 36%)\" fill-opacity=\"0.5\" d=\"M 1 52 C 9.75 52 18.5 52 36 52 C 36 42 36 27 36 27 C 36 27 36 12 36 2 C 18.5 2 9.75 2 1 2 C 1 27 1 27 1 52 Z M 1 52 \"/>\n",
       "<path fill=\"none\" stroke-width=\"1.133858\" stroke-linecap=\"butt\" stroke-linejoin=\"miter\" stroke=\"rgb(0%, 0%, 0%)\" stroke-opacity=\"1\" stroke-miterlimit=\"10\" d=\"M 15 -25 C 15 -35 15 -50 15 -50 \" transform=\"matrix(1, 0, 0, 1, 21, 77)\"/>\n",
       "<path fill=\"none\" stroke-width=\"1.133858\" stroke-linecap=\"butt\" stroke-linejoin=\"miter\" stroke=\"rgb(0%, 0%, 0%)\" stroke-opacity=\"1\" stroke-miterlimit=\"10\" d=\"M 15 -75 C 15 -65 15 -50 15 -50 \" transform=\"matrix(1, 0, 0, 1, 21, 77)\"/>\n",
       "<path fill-rule=\"evenodd\" fill=\"rgb(100%, 37%, 36%)\" fill-opacity=\"0.5\" d=\"M 141 52 C 132.25 52 123.5 52 106 52 C 106 42 106 27 106 27 C 106 27 106 12 106 2 C 123.5 2 132.25 2 141 2 C 141 27 141 27 141 52 Z M 141 52 \"/>\n",
       "<path fill-rule=\"evenodd\" fill=\"rgb(0%, 0%, 0%)\" fill-opacity=\"1\" d=\"M 38.269531 27 C 38.269531 23.976562 33.730469 23.976562 33.730469 27 C 33.730469 30.023438 38.269531 30.023438 38.269531 27 Z M 38.269531 27 \"/>\n",
       "<path fill=\"none\" stroke-width=\"0.566929\" stroke-linecap=\"butt\" stroke-linejoin=\"miter\" stroke=\"rgb(0%, 0%, 0%)\" stroke-opacity=\"1\" stroke-miterlimit=\"10\" d=\"M -20.261719 -25 C -11.25 -25 -2.5 -25 15.523438 -25 \" transform=\"matrix(1, 0, 0, 1, 21, 77)\"/>\n",
       "<path fill=\"none\" stroke-width=\"0.566929\" stroke-linecap=\"butt\" stroke-linejoin=\"miter\" stroke=\"rgb(0%, 0%, 0%)\" stroke-opacity=\"1\" stroke-miterlimit=\"10\" d=\"M 120.261719 -75 C 111.25 -75 102.5 -75 84.476562 -75 \" transform=\"matrix(1, 0, 0, 1, 21, 77)\"/>\n",
       "<path fill=\"none\" stroke-width=\"0.566929\" stroke-linecap=\"butt\" stroke-linejoin=\"miter\" stroke=\"rgb(0%, 0%, 0%)\" stroke-opacity=\"1\" stroke-miterlimit=\"10\" d=\"M 50.261719 -25 C 41.25 -25 32.5 -25 14.476562 -25 \" transform=\"matrix(1, 0, 0, 1, 21, 77)\"/>\n",
       "<path fill=\"none\" stroke-width=\"0.566929\" stroke-linecap=\"butt\" stroke-linejoin=\"miter\" stroke=\"rgb(0%, 0%, 0%)\" stroke-opacity=\"1\" stroke-miterlimit=\"10\" d=\"M 49.738281 -75 C 58.75 -75 67.5 -75 85.523438 -75 \" transform=\"matrix(1, 0, 0, 1, 21, 77)\"/>\n",
       "<path fill=\"none\" stroke-width=\"0.566929\" stroke-linecap=\"butt\" stroke-linejoin=\"miter\" stroke=\"rgb(0%, 0%, 0%)\" stroke-opacity=\"1\" stroke-miterlimit=\"10\" d=\"M 49.738281 -25 C 58.75 -25 67.5 -25 85.523438 -25 \" transform=\"matrix(1, 0, 0, 1, 21, 77)\"/>\n",
       "<path fill=\"none\" stroke-width=\"1.133858\" stroke-linecap=\"butt\" stroke-linejoin=\"miter\" stroke=\"rgb(0%, 0%, 0%)\" stroke-opacity=\"1\" stroke-miterlimit=\"10\" d=\"M 85 -75 C 85 -65 85 -50 85 -50 \" transform=\"matrix(1, 0, 0, 1, 21, 77)\"/>\n",
       "<path fill=\"none\" stroke-width=\"0.566929\" stroke-linecap=\"butt\" stroke-linejoin=\"miter\" stroke=\"rgb(0%, 0%, 0%)\" stroke-opacity=\"1\" stroke-miterlimit=\"10\" d=\"M 120.261719 -25 C 111.25 -25 102.5 -25 84.476562 -25 \" transform=\"matrix(1, 0, 0, 1, 21, 77)\"/>\n",
       "<path fill=\"none\" stroke-width=\"0.566929\" stroke-linecap=\"butt\" stroke-linejoin=\"miter\" stroke=\"rgb(0%, 0%, 0%)\" stroke-opacity=\"1\" stroke-miterlimit=\"10\" d=\"M -20.261719 -75 C -11.25 -75 -2.5 -75 15.523438 -75 \" transform=\"matrix(1, 0, 0, 1, 21, 77)\"/>\n",
       "<path fill=\"none\" stroke-width=\"0.566929\" stroke-linecap=\"butt\" stroke-linejoin=\"miter\" stroke=\"rgb(0%, 0%, 0%)\" stroke-opacity=\"1\" stroke-miterlimit=\"10\" d=\"M 50.261719 -75 C 41.25 -75 32.5 -75 14.476562 -75 \" transform=\"matrix(1, 0, 0, 1, 21, 77)\"/>\n",
       "<path fill=\"none\" stroke-width=\"1.133858\" stroke-linecap=\"butt\" stroke-linejoin=\"miter\" stroke=\"rgb(0%, 0%, 0%)\" stroke-opacity=\"1\" stroke-miterlimit=\"10\" d=\"M 85 -25 C 85 -35 85 -50 85 -50 \" transform=\"matrix(1, 0, 0, 1, 21, 77)\"/>\n",
       "<path fill-rule=\"evenodd\" fill=\"rgb(0%, 0%, 0%)\" fill-opacity=\"1\" d=\"M 37.699219 52 C 37.699219 49.730469 34.300781 49.730469 34.300781 52 C 34.300781 54.269531 37.699219 54.269531 37.699219 52 Z M 37.699219 52 \"/>\n",
       "<path fill-rule=\"evenodd\" fill=\"rgb(0%, 0%, 0%)\" fill-opacity=\"1\" d=\"M 107.699219 52 C 107.699219 49.730469 104.300781 49.730469 104.300781 52 C 104.300781 54.269531 107.699219 54.269531 107.699219 52 Z M 107.699219 52 \"/>\n",
       "<path fill-rule=\"evenodd\" fill=\"rgb(0%, 0%, 0%)\" fill-opacity=\"1\" d=\"M 108.269531 27 C 108.269531 23.976562 103.730469 23.976562 103.730469 27 C 103.730469 30.023438 108.269531 30.023438 108.269531 27 Z M 108.269531 27 \"/>\n",
       "<path fill-rule=\"evenodd\" fill=\"rgb(0%, 0%, 0%)\" fill-opacity=\"1\" d=\"M 107.699219 2 C 107.699219 -0.269531 104.300781 -0.269531 104.300781 2 C 104.300781 4.269531 107.699219 4.269531 107.699219 2 Z M 107.699219 2 \"/>\n",
       "<path fill-rule=\"evenodd\" fill=\"rgb(0%, 0%, 0%)\" fill-opacity=\"1\" d=\"M 37.699219 2 C 37.699219 -0.269531 34.300781 -0.269531 34.300781 2 C 34.300781 4.269531 37.699219 4.269531 37.699219 2 Z M 37.699219 2 \"/>\n",
       "</svg>\n"
      ],
      "text/plain": [
       "HCell2((((n<---m)<===(n<---m))<<((m<---n)<===(m<---n))))"
      ]
     },
     "execution_count": 7,
     "metadata": {},
     "output_type": "execute_result"
    }
   ],
   "source": [
    "g = Cell2(B, B)\n",
    "g<<f"
   ]
  },
  {
   "cell_type": "code",
   "execution_count": 8,
   "id": "98a576fb-f72b-4da1-9b98-2bcbe089d99f",
   "metadata": {},
   "outputs": [
    {
     "data": {
      "image/svg+xml": [
       "<?xml version=\"1.0\" encoding=\"UTF-8\"?>\n",
       "<svg xmlns=\"http://www.w3.org/2000/svg\" xmlns:xlink=\"http://www.w3.org/1999/xlink\" width=\"72\" height=\"104\" viewBox=\"0 0 72 104\">\n",
       "<path fill-rule=\"evenodd\" fill=\"rgb(100%, 93%, 40%)\" fill-opacity=\"0.5\" d=\"M 1 52 C 1 27 1 27 1 2 C 9.75 2 18.5 2 36 2 C 36 12 36 27 36 27 C 36 27 36 42 36 52 C 36 62 36 77 36 77 C 36 77 36 92 36 102 C 18.5 102 9.75 102 1 102 C 1 77 1 77 1 52 Z M 1 52 \"/>\n",
       "<path fill=\"none\" stroke-width=\"0.566929\" stroke-linecap=\"butt\" stroke-linejoin=\"miter\" stroke=\"rgb(0%, 0%, 0%)\" stroke-opacity=\"1\" stroke-miterlimit=\"10\" d=\"M 14.738281 -100 C 23.75 -100 32.5 -100 50.523438 -100 \" transform=\"matrix(1, 0, 0, 1, -14, 102)\"/>\n",
       "<path fill=\"none\" stroke-width=\"0.566929\" stroke-linecap=\"butt\" stroke-linejoin=\"miter\" stroke=\"rgb(0%, 0%, 0%)\" stroke-opacity=\"1\" stroke-miterlimit=\"10\" d=\"M 14.738281 0 C 23.75 0 32.5 0 50.523438 0 \" transform=\"matrix(1, 0, 0, 1, -14, 102)\"/>\n",
       "<path fill-rule=\"evenodd\" fill=\"rgb(100%, 37%, 36%)\" fill-opacity=\"0.5\" d=\"M 71 52 C 71 27 71 27 71 2 C 62.25 2 53.5 2 36 2 C 36 12 36 27 36 27 C 36 27 36 42 36 52 C 36 62 36 77 36 77 C 36 77 36 92 36 102 C 53.5 102 62.25 102 71 102 C 71 77 71 77 71 52 Z M 71 52 \"/>\n",
       "<path fill=\"none\" stroke-width=\"0.566929\" stroke-linecap=\"butt\" stroke-linejoin=\"miter\" stroke=\"rgb(0%, 0%, 0%)\" stroke-opacity=\"1\" stroke-miterlimit=\"10\" d=\"M 85.261719 -50 C 76.25 -50 67.5 -50 49.476562 -50 \" transform=\"matrix(1, 0, 0, 1, -14, 102)\"/>\n",
       "<path fill=\"none\" stroke-width=\"1.133858\" stroke-linecap=\"butt\" stroke-linejoin=\"miter\" stroke=\"rgb(0%, 0%, 0%)\" stroke-opacity=\"1\" stroke-miterlimit=\"10\" d=\"M 50 -50 C 50 -40 50 -25 50 -25 \" transform=\"matrix(1, 0, 0, 1, -14, 102)\"/>\n",
       "<path fill=\"none\" stroke-width=\"1.133858\" stroke-linecap=\"butt\" stroke-linejoin=\"miter\" stroke=\"rgb(0%, 0%, 0%)\" stroke-opacity=\"1\" stroke-miterlimit=\"10\" d=\"M 50 -100 C 50 -90 50 -75 50 -75 \" transform=\"matrix(1, 0, 0, 1, -14, 102)\"/>\n",
       "<path fill=\"none\" stroke-width=\"0.566929\" stroke-linecap=\"butt\" stroke-linejoin=\"miter\" stroke=\"rgb(0%, 0%, 0%)\" stroke-opacity=\"1\" stroke-miterlimit=\"10\" d=\"M 14.738281 -50 C 23.75 -50 32.5 -50 50.523438 -50 \" transform=\"matrix(1, 0, 0, 1, -14, 102)\"/>\n",
       "<path fill=\"none\" stroke-width=\"1.133858\" stroke-linecap=\"butt\" stroke-linejoin=\"miter\" stroke=\"rgb(0%, 0%, 0%)\" stroke-opacity=\"1\" stroke-miterlimit=\"10\" d=\"M 50 0 C 50 -10 50 -25 50 -25 \" transform=\"matrix(1, 0, 0, 1, -14, 102)\"/>\n",
       "<path fill=\"none\" stroke-width=\"0.566929\" stroke-linecap=\"butt\" stroke-linejoin=\"miter\" stroke=\"rgb(0%, 0%, 0%)\" stroke-opacity=\"1\" stroke-miterlimit=\"10\" d=\"M 85.261719 0 C 76.25 0 67.5 0 49.476562 0 \" transform=\"matrix(1, 0, 0, 1, -14, 102)\"/>\n",
       "<path fill=\"none\" stroke-width=\"1.133858\" stroke-linecap=\"butt\" stroke-linejoin=\"miter\" stroke=\"rgb(0%, 0%, 0%)\" stroke-opacity=\"1\" stroke-miterlimit=\"10\" d=\"M 50 -50 C 50 -60 50 -75 50 -75 \" transform=\"matrix(1, 0, 0, 1, -14, 102)\"/>\n",
       "<path fill=\"none\" stroke-width=\"0.566929\" stroke-linecap=\"butt\" stroke-linejoin=\"miter\" stroke=\"rgb(0%, 0%, 0%)\" stroke-opacity=\"1\" stroke-miterlimit=\"10\" d=\"M 85.261719 -100 C 76.25 -100 67.5 -100 49.476562 -100 \" transform=\"matrix(1, 0, 0, 1, -14, 102)\"/>\n",
       "<path fill-rule=\"evenodd\" fill=\"rgb(0%, 0%, 0%)\" fill-opacity=\"1\" d=\"M 37.699219 102 C 37.699219 99.730469 34.300781 99.730469 34.300781 102 C 34.300781 104.269531 37.699219 104.269531 37.699219 102 Z M 37.699219 102 \"/>\n",
       "<path fill-rule=\"evenodd\" fill=\"rgb(0%, 0%, 0%)\" fill-opacity=\"1\" d=\"M 38.269531 77 C 38.269531 73.976562 33.730469 73.976562 33.730469 77 C 33.730469 80.023438 38.269531 80.023438 38.269531 77 Z M 38.269531 77 \"/>\n",
       "<path fill-rule=\"evenodd\" fill=\"rgb(0%, 0%, 0%)\" fill-opacity=\"1\" d=\"M 37.699219 2 C 37.699219 -0.269531 34.300781 -0.269531 34.300781 2 C 34.300781 4.269531 37.699219 4.269531 37.699219 2 Z M 37.699219 2 \"/>\n",
       "<path fill-rule=\"evenodd\" fill=\"rgb(0%, 0%, 0%)\" fill-opacity=\"1\" d=\"M 38.269531 27 C 38.269531 23.976562 33.730469 23.976562 33.730469 27 C 33.730469 30.023438 38.269531 30.023438 38.269531 27 Z M 38.269531 27 \"/>\n",
       "<path fill-rule=\"evenodd\" fill=\"rgb(0%, 0%, 0%)\" fill-opacity=\"1\" d=\"M 37.699219 52 C 37.699219 49.730469 34.300781 49.730469 34.300781 52 C 34.300781 54.269531 37.699219 54.269531 37.699219 52 Z M 37.699219 52 \"/>\n",
       "<path fill-rule=\"evenodd\" fill=\"rgb(0%, 0%, 0%)\" fill-opacity=\"1\" d=\"M 37.699219 52 C 37.699219 49.730469 34.300781 49.730469 34.300781 52 C 34.300781 54.269531 37.699219 54.269531 37.699219 52 Z M 37.699219 52 \"/>\n",
       "</svg>\n"
      ],
      "text/plain": [
       "VCell2((((m<---n)<===(m<---n))*((m<---n)<===(m<---n))))"
      ]
     },
     "execution_count": 8,
     "metadata": {},
     "output_type": "execute_result"
    }
   ],
   "source": [
    "f*f"
   ]
  },
  {
   "cell_type": "code",
   "execution_count": 9,
   "id": "0174df07-60c5-4c67-b8e5-8c046f685615",
   "metadata": {},
   "outputs": [
    {
     "data": {
      "image/svg+xml": [
       "<?xml version=\"1.0\" encoding=\"UTF-8\"?>\n",
       "<svg xmlns=\"http://www.w3.org/2000/svg\" xmlns:xlink=\"http://www.w3.org/1999/xlink\" width=\"72\" height=\"54\" viewBox=\"0 0 72 54\">\n",
       "<path fill-rule=\"evenodd\" fill=\"rgb(100%, 93%, 40%)\" fill-opacity=\"0.5\" d=\"M 36 52 C 31.625 52 27.25 52 18.5 52 C 18.5 42 29 27 36 27 C 43 27 53.5 42 53.5 52 C 44.75 52 40.375 52 36 52 Z M 36 52 \"/>\n",
       "<path fill=\"none\" stroke-width=\"0.566929\" stroke-linecap=\"butt\" stroke-linejoin=\"miter\" stroke=\"rgb(0%, 0%, 0%)\" stroke-opacity=\"1\" stroke-miterlimit=\"10\" d=\"M 49.867188 -25 C 54.375 -25 58.75 -25 67.761719 -25 \" transform=\"matrix(1, 0, 0, 1, -14, 77)\"/>\n",
       "<path fill=\"none\" stroke-width=\"0.566929\" stroke-linecap=\"butt\" stroke-linejoin=\"miter\" stroke=\"rgb(0%, 0%, 0%)\" stroke-opacity=\"1\" stroke-miterlimit=\"10\" d=\"M 50.132812 -25 C 45.625 -25 41.25 -25 32.238281 -25 \" transform=\"matrix(1, 0, 0, 1, -14, 77)\"/>\n",
       "<path fill-rule=\"evenodd\" fill=\"rgb(100%, 37%, 36%)\" fill-opacity=\"0.5\" d=\"M 36 2 C 18.5 2 9.75 2 1 2 C 1 27 1 27 1 52 C 5.375 52 9.75 52 18.5 52 C 18.5 42 29 27 36 27 C 43 27 53.5 42 53.5 52 C 62.25 52 66.625 52 71 52 C 71 27 71 27 71 2 C 62.25 2 53.5 2 36 2 Z M 36 2 \"/>\n",
       "<path fill=\"none\" stroke-width=\"0.566929\" stroke-linecap=\"butt\" stroke-linejoin=\"miter\" stroke=\"rgb(0%, 0%, 0%)\" stroke-opacity=\"1\" stroke-miterlimit=\"10\" d=\"M 14.738281 -75 C 23.75 -75 32.5 -75 50.523438 -75 \" transform=\"matrix(1, 0, 0, 1, -14, 77)\"/>\n",
       "<path fill=\"none\" stroke-width=\"0.566929\" stroke-linecap=\"butt\" stroke-linejoin=\"miter\" stroke=\"rgb(0%, 0%, 0%)\" stroke-opacity=\"1\" stroke-miterlimit=\"10\" d=\"M 85.261719 -75 C 76.25 -75 67.5 -75 49.476562 -75 \" transform=\"matrix(1, 0, 0, 1, -14, 77)\"/>\n",
       "<path fill=\"none\" stroke-width=\"0.566929\" stroke-linecap=\"butt\" stroke-linejoin=\"miter\" stroke=\"rgb(0%, 0%, 0%)\" stroke-opacity=\"1\" stroke-miterlimit=\"10\" d=\"M 85.132812 -25 C 80.625 -25 76.25 -25 67.238281 -25 \" transform=\"matrix(1, 0, 0, 1, -14, 77)\"/>\n",
       "<path fill=\"none\" stroke-width=\"1.133858\" stroke-linecap=\"butt\" stroke-linejoin=\"miter\" stroke=\"rgb(0%, 0%, 0%)\" stroke-opacity=\"1\" stroke-miterlimit=\"10\" d=\"M 50 -75 C 50 -65 50 -50 50 -50 \" transform=\"matrix(1, 0, 0, 1, -14, 77)\"/>\n",
       "<path fill=\"none\" stroke-width=\"1.133858\" stroke-linecap=\"butt\" stroke-linejoin=\"miter\" stroke=\"rgb(0%, 0%, 0%)\" stroke-opacity=\"1\" stroke-miterlimit=\"10\" d=\"M 32.5 -25 C 32.5 -35 43 -50 50 -50 \" transform=\"matrix(1, 0, 0, 1, -14, 77)\"/>\n",
       "<path fill=\"none\" stroke-width=\"1.133858\" stroke-linecap=\"butt\" stroke-linejoin=\"miter\" stroke=\"rgb(0%, 0%, 0%)\" stroke-opacity=\"1\" stroke-miterlimit=\"10\" d=\"M 67.5 -25 C 67.5 -35 57 -50 50 -50 \" transform=\"matrix(1, 0, 0, 1, -14, 77)\"/>\n",
       "<path fill=\"none\" stroke-width=\"0.566929\" stroke-linecap=\"butt\" stroke-linejoin=\"miter\" stroke=\"rgb(0%, 0%, 0%)\" stroke-opacity=\"1\" stroke-miterlimit=\"10\" d=\"M 14.867188 -25 C 19.375 -25 23.75 -25 32.761719 -25 \" transform=\"matrix(1, 0, 0, 1, -14, 77)\"/>\n",
       "<path fill-rule=\"evenodd\" fill=\"rgb(0%, 0%, 0%)\" fill-opacity=\"1\" d=\"M 37.699219 2 C 37.699219 -0.269531 34.300781 -0.269531 34.300781 2 C 34.300781 4.269531 37.699219 4.269531 37.699219 2 Z M 37.699219 2 \"/>\n",
       "<path fill-rule=\"evenodd\" fill=\"rgb(0%, 0%, 0%)\" fill-opacity=\"1\" d=\"M 20.199219 52 C 20.199219 49.730469 16.800781 49.730469 16.800781 52 C 16.800781 54.269531 20.199219 54.269531 20.199219 52 Z M 20.199219 52 \"/>\n",
       "<path fill-rule=\"evenodd\" fill=\"rgb(0%, 0%, 0%)\" fill-opacity=\"1\" d=\"M 38.269531 27 C 38.269531 23.976562 33.730469 23.976562 33.730469 27 C 33.730469 30.023438 38.269531 30.023438 38.269531 27 Z M 38.269531 27 \"/>\n",
       "<path fill-rule=\"evenodd\" fill=\"rgb(0%, 0%, 0%)\" fill-opacity=\"1\" d=\"M 55.199219 52 C 55.199219 49.730469 51.800781 49.730469 51.800781 52 C 51.800781 54.269531 55.199219 54.269531 55.199219 52 Z M 55.199219 52 \"/>\n",
       "</svg>\n"
      ],
      "text/plain": [
       "Cell2(((n<---n)<===((n<---m)<<(m<---n))))"
      ]
     },
     "execution_count": 9,
     "metadata": {},
     "output_type": "execute_result"
    }
   ],
   "source": [
    "C = Cell1(n, n)\n",
    "Cell2(C, B<<A)"
   ]
  },
  {
   "cell_type": "code",
   "execution_count": 10,
   "id": "c8c7b675-581f-417d-9d60-a614f6b2c021",
   "metadata": {},
   "outputs": [
    {
     "data": {
      "image/svg+xml": [
       "<?xml version=\"1.0\" encoding=\"UTF-8\"?>\n",
       "<svg xmlns=\"http://www.w3.org/2000/svg\" xmlns:xlink=\"http://www.w3.org/1999/xlink\" width=\"80\" height=\"70\" viewBox=\"0 0 80 70\">\n",
       "<path fill-rule=\"evenodd\" fill=\"rgb(100%, 37%, 36%)\" fill-opacity=\"0.5\" d=\"M 9.871094 47.992188 C 18.488281 48.511719 27.105469 49.03125 44.339844 50.070312 C 44.339844 38.324219 44.339844 38.324219 44.339844 26.578125 C 44.339844 14.832031 44.339844 14.832031 44.339844 3.085938 C 27.105469 2.046875 18.488281 1.527344 9.871094 1.007812 C 9.871094 24.5 9.871094 24.5 9.871094 47.992188 Z M 9.871094 47.992188 \"/>\n",
       "<path fill=\"none\" stroke-width=\"0.566929\" stroke-linecap=\"butt\" stroke-linejoin=\"miter\" stroke=\"rgb(0%, 0%, 0%)\" stroke-opacity=\"1\" stroke-miterlimit=\"10\" d=\"M 19.613281 -37.023438 C 28.488281 -36.488281 37.105469 -35.96875 54.859375 -34.898438 \" transform=\"matrix(1, 0, 0, 1, -10, 85)\"/>\n",
       "<path fill-rule=\"evenodd\" fill=\"rgb(100%, 37%, 36%)\" fill-opacity=\"0.5\" d=\"M 78.808594 52.152344 C 70.191406 51.628906 61.574219 51.109375 44.339844 50.070312 C 44.339844 38.324219 44.339844 38.324219 44.339844 26.578125 C 44.339844 14.832031 44.339844 14.832031 44.339844 3.085938 C 61.574219 4.125 70.191406 4.644531 78.808594 5.164062 C 78.808594 28.65625 78.808594 28.65625 78.808594 52.152344 Z M 78.808594 52.152344 \"/>\n",
       "<path fill=\"none\" stroke-width=\"0.566929\" stroke-linecap=\"butt\" stroke-linejoin=\"miter\" stroke=\"rgb(0%, 0%, 0%)\" stroke-opacity=\"1\" stroke-miterlimit=\"10\" d=\"M 89.066406 -32.835938 C 80.191406 -33.371094 71.574219 -33.890625 53.824219 -34.960938 \" transform=\"matrix(1, 0, 0, 1, -10, 85)\"/>\n",
       "<path fill=\"none\" stroke-width=\"0.566929\" stroke-linecap=\"butt\" stroke-linejoin=\"miter\" stroke=\"rgb(0%, 0%, 0%)\" stroke-opacity=\"1\" stroke-miterlimit=\"10\" d=\"M 19.613281 -84.007812 C 28.488281 -83.472656 37.105469 -82.953125 54.859375 -81.882812 \" transform=\"matrix(1, 0, 0, 1, -10, 85)\"/>\n",
       "<path fill=\"none\" stroke-width=\"0.566929\" stroke-linecap=\"butt\" stroke-linejoin=\"miter\" stroke=\"rgb(0%, 0%, 0%)\" stroke-opacity=\"1\" stroke-miterlimit=\"10\" d=\"M 89.066406 -79.820312 C 80.191406 -80.355469 71.574219 -80.875 53.824219 -81.945312 \" transform=\"matrix(1, 0, 0, 1, -10, 85)\"/>\n",
       "<path fill-rule=\"evenodd\" fill=\"rgb(100%, 93%, 40%)\" fill-opacity=\"0.5\" d=\"M 1.191406 64.835938 C 9.808594 65.355469 18.425781 65.875 35.660156 66.914062 C 35.660156 55.167969 35.660156 55.167969 35.660156 43.421875 C 35.660156 31.675781 35.660156 31.675781 35.660156 19.929688 C 18.425781 18.890625 9.808594 18.371094 1.191406 17.847656 C 1.191406 41.34375 1.191406 41.34375 1.191406 64.835938 Z M 1.191406 64.835938 \"/>\n",
       "<path fill=\"none\" stroke-width=\"0.566929\" stroke-linecap=\"butt\" stroke-linejoin=\"miter\" stroke=\"rgb(0%, 0%, 0%)\" stroke-opacity=\"1\" stroke-miterlimit=\"10\" d=\"M 10.933594 -20.179688 C 19.808594 -19.644531 28.425781 -19.125 46.175781 -18.054688 \" transform=\"matrix(1, 0, 0, 1, -10, 85)\"/>\n",
       "<path fill-rule=\"evenodd\" fill=\"rgb(100%, 93%, 40%)\" fill-opacity=\"0.5\" d=\"M 70.128906 68.992188 C 61.511719 68.472656 52.894531 67.953125 35.660156 66.914062 C 35.660156 55.167969 35.660156 55.167969 35.660156 43.421875 C 35.660156 31.675781 35.660156 31.675781 35.660156 19.929688 C 52.894531 20.96875 61.511719 21.488281 70.128906 22.007812 C 70.128906 45.5 70.128906 45.5 70.128906 68.992188 Z M 70.128906 68.992188 \"/>\n",
       "<path fill=\"none\" stroke-width=\"0.566929\" stroke-linecap=\"butt\" stroke-linejoin=\"miter\" stroke=\"rgb(0%, 0%, 0%)\" stroke-opacity=\"1\" stroke-miterlimit=\"10\" d=\"M 80.386719 -62.976562 C 71.511719 -63.511719 62.894531 -64.03125 45.140625 -65.101562 \" transform=\"matrix(1, 0, 0, 1, -10, 85)\"/>\n",
       "<path fill=\"none\" stroke-width=\"0.566929\" stroke-linecap=\"butt\" stroke-linejoin=\"miter\" stroke=\"rgb(0%, 0%, 0%)\" stroke-opacity=\"1\" stroke-miterlimit=\"10\" d=\"M 80.386719 -15.992188 C 71.511719 -16.527344 62.894531 -17.046875 45.140625 -18.117188 \" transform=\"matrix(1, 0, 0, 1, -10, 85)\"/>\n",
       "<path fill=\"none\" stroke-width=\"0.566929\" stroke-linecap=\"butt\" stroke-linejoin=\"miter\" stroke=\"rgb(0%, 0%, 0%)\" stroke-opacity=\"1\" stroke-miterlimit=\"10\" d=\"M 10.933594 -67.164062 C 19.808594 -66.628906 28.425781 -66.109375 46.175781 -65.039062 \" transform=\"matrix(1, 0, 0, 1, -10, 85)\"/>\n",
       "</svg>\n"
      ],
      "text/plain": [
       "DCell0(m@n)"
      ]
     },
     "execution_count": 10,
     "metadata": {},
     "output_type": "execute_result"
    }
   ],
   "source": [
    "m @ n"
   ]
  },
  {
   "cell_type": "code",
   "execution_count": 12,
   "id": "764f8f2e-8420-444a-9e50-8c226df6a797",
   "metadata": {},
   "outputs": [
    {
     "data": {
      "image/svg+xml": [
       "<?xml version=\"1.0\" encoding=\"UTF-8\"?>\n",
       "<svg xmlns=\"http://www.w3.org/2000/svg\" xmlns:xlink=\"http://www.w3.org/1999/xlink\" width=\"72\" height=\"58\" viewBox=\"0 0 72 58\">\n",
       "<path fill-rule=\"evenodd\" fill=\"rgb(100%, 93%, 40%)\" fill-opacity=\"0.5\" d=\"M 4.703125 48.203125 C 13.320312 48.722656 21.9375 49.242188 37 54.492188 C 37 42.746094 37 42.746094 37 31 C 37 19.253906 37 19.253906 37 7.507812 C 21.9375 2.257812 13.320312 1.738281 4.703125 1.21875 C 4.703125 24.710938 4.703125 24.710938 4.703125 48.203125 Z M 4.703125 48.203125 \"/>\n",
       "<path fill=\"none\" stroke-width=\"0.566929\" stroke-linecap=\"butt\" stroke-linejoin=\"miter\" stroke=\"rgb(0%, 0%, 0%)\" stroke-opacity=\"1\" stroke-miterlimit=\"10\" d=\"M 17.445312 -79.796875 C 26.320312 -79.261719 34.9375 -78.742188 50.453125 -73.335938 \" transform=\"matrix(1, 0, 0, 1, -13, 81)\"/>\n",
       "<path fill=\"none\" stroke-width=\"0.566929\" stroke-linecap=\"butt\" stroke-linejoin=\"miter\" stroke=\"rgb(0%, 0%, 0%)\" stroke-opacity=\"1\" stroke-miterlimit=\"10\" d=\"M 17.445312 -32.8125 C 26.320312 -32.277344 34.9375 -31.757812 50.453125 -26.351562 \" transform=\"matrix(1, 0, 0, 1, -13, 81)\"/>\n",
       "<path fill-rule=\"evenodd\" fill=\"rgb(100%, 93%, 40%)\" fill-opacity=\"0.5\" d=\"M 71.46875 56.570312 C 62.851562 56.050781 54.234375 55.53125 37 54.492188 C 37 42.746094 37 42.746094 37 31 C 37 19.253906 37 19.253906 37 7.507812 C 54.234375 8.546875 62.851562 9.066406 71.46875 9.585938 C 71.46875 33.078125 71.46875 33.078125 71.46875 56.570312 Z M 71.46875 56.570312 \"/>\n",
       "<path fill=\"none\" stroke-width=\"0.566929\" stroke-linecap=\"butt\" stroke-linejoin=\"miter\" stroke=\"rgb(0%, 0%, 0%)\" stroke-opacity=\"1\" stroke-miterlimit=\"10\" d=\"M 84.726562 -24.414062 C 75.851562 -24.949219 67.234375 -25.46875 49.484375 -26.539062 \" transform=\"matrix(1, 0, 0, 1, -13, 81)\"/>\n",
       "<path fill-rule=\"evenodd\" fill=\"rgb(100%, 93%, 40%)\" fill-opacity=\"0.5\" d=\"M 0.359375 56.625 C 8.976562 57.144531 17.59375 57.664062 37 54.492188 C 37 42.746094 37 42.746094 37 31 C 37 19.253906 37 19.253906 37 7.507812 C 17.59375 10.679688 8.976562 10.160156 0.359375 9.640625 C 0.359375 33.132812 0.359375 33.132812 0.359375 56.625 Z M 0.359375 56.625 \"/>\n",
       "<path fill=\"none\" stroke-width=\"1.133858\" stroke-linecap=\"butt\" stroke-linejoin=\"miter\" stroke=\"rgb(0%, 0%, 0%)\" stroke-opacity=\"1\" stroke-miterlimit=\"10\" d=\"M 50 -26.507812 C 50 -38.253906 50 -38.253906 50 -50 \" transform=\"matrix(1, 0, 0, 1, -13, 81)\"/>\n",
       "<path fill=\"none\" stroke-width=\"0.566929\" stroke-linecap=\"butt\" stroke-linejoin=\"miter\" stroke=\"rgb(0%, 0%, 0%)\" stroke-opacity=\"1\" stroke-miterlimit=\"10\" d=\"M 13.101562 -24.390625 C 21.976562 -23.855469 30.59375 -23.335938 50.582031 -26.601562 \" transform=\"matrix(1, 0, 0, 1, -13, 81)\"/>\n",
       "<path fill=\"none\" stroke-width=\"0.566929\" stroke-linecap=\"butt\" stroke-linejoin=\"miter\" stroke=\"rgb(0%, 0%, 0%)\" stroke-opacity=\"1\" stroke-miterlimit=\"10\" d=\"M 13.101562 -71.375 C 21.976562 -70.839844 30.59375 -70.320312 50.582031 -73.585938 \" transform=\"matrix(1, 0, 0, 1, -13, 81)\"/>\n",
       "<path fill=\"none\" stroke-width=\"0.566929\" stroke-linecap=\"butt\" stroke-linejoin=\"miter\" stroke=\"rgb(0%, 0%, 0%)\" stroke-opacity=\"1\" stroke-miterlimit=\"10\" d=\"M 84.726562 -71.398438 C 75.851562 -71.933594 67.234375 -72.453125 49.484375 -73.523438 \" transform=\"matrix(1, 0, 0, 1, -13, 81)\"/>\n",
       "<path fill=\"none\" stroke-width=\"1.133858\" stroke-linecap=\"butt\" stroke-linejoin=\"miter\" stroke=\"rgb(0%, 0%, 0%)\" stroke-opacity=\"1\" stroke-miterlimit=\"10\" d=\"M 50 -73.492188 C 50 -61.746094 50 -61.746094 50 -50 \" transform=\"matrix(1, 0, 0, 1, -13, 81)\"/>\n",
       "<path fill-rule=\"evenodd\" fill=\"rgb(0%, 0%, 0%)\" fill-opacity=\"1\" d=\"M 38.699219 54.492188 C 38.699219 52.222656 35.300781 52.222656 35.300781 54.492188 C 35.300781 56.761719 38.699219 56.761719 38.699219 54.492188 Z M 38.699219 54.492188 \"/>\n",
       "<path fill-rule=\"evenodd\" fill=\"rgb(0%, 0%, 0%)\" fill-opacity=\"1\" d=\"M 38.699219 7.507812 C 38.699219 5.238281 35.300781 5.238281 35.300781 7.507812 C 35.300781 9.777344 38.699219 9.777344 38.699219 7.507812 Z M 38.699219 7.507812 \"/>\n",
       "</svg>\n"
      ],
      "text/plain": [
       "Cell1((m@m<---m))"
      ]
     },
     "execution_count": 12,
     "metadata": {},
     "output_type": "execute_result"
    }
   ],
   "source": [
    "Cell1(m @ m, m)"
   ]
  },
  {
   "cell_type": "code",
   "execution_count": 13,
   "id": "33d418b7-b801-4fdc-80fe-2af507452173",
   "metadata": {},
   "outputs": [
    {
     "data": {
      "image/svg+xml": [
       "<?xml version=\"1.0\" encoding=\"UTF-8\"?>\n",
       "<svg xmlns=\"http://www.w3.org/2000/svg\" xmlns:xlink=\"http://www.w3.org/1999/xlink\" width=\"73\" height=\"62\" viewBox=\"0 0 73 62\">\n",
       "<path fill-rule=\"evenodd\" fill=\"rgb(100%, 93%, 40%)\" fill-opacity=\"0.5\" d=\"M 38 33 C 39.085938 42.640625 39.085938 42.640625 40.171875 52.28125 C 35.863281 52.023438 31.554688 51.761719 22.9375 51.242188 C 30.46875 42.121094 30.46875 42.121094 38 33 Z M 38 33 \"/>\n",
       "<path fill=\"none\" stroke-width=\"0.566929\" stroke-linecap=\"butt\" stroke-linejoin=\"miter\" stroke=\"rgb(0%, 0%, 0%)\" stroke-opacity=\"1\" stroke-miterlimit=\"10\" d=\"M 52.300781 -30.710938 C 47.863281 -30.976562 43.554688 -31.238281 34.679688 -31.773438 \" transform=\"matrix(1, 0, 0, 1, -12, 83)\"/>\n",
       "<path fill-rule=\"evenodd\" fill=\"rgb(100%, 93%, 40%)\" fill-opacity=\"0.5\" d=\"M 5.703125 50.203125 C 10.011719 50.464844 14.320312 50.722656 22.9375 51.242188 C 30.46875 42.121094 30.46875 42.121094 38 33 C 30.46875 18.628906 30.46875 18.628906 22.9375 4.257812 C 15.40625 1.632812 11.097656 1.375 6.789062 1.113281 C 6.246094 25.660156 6.246094 25.660156 5.703125 50.203125 Z M 5.703125 50.203125 \"/>\n",
       "<path fill=\"none\" stroke-width=\"0.566929\" stroke-linecap=\"butt\" stroke-linejoin=\"miter\" stroke=\"rgb(0%, 0%, 0%)\" stroke-opacity=\"1\" stroke-miterlimit=\"10\" d=\"M 17.574219 -32.804688 C 22.011719 -32.535156 26.320312 -32.277344 35.195312 -31.742188 \" transform=\"matrix(1, 0, 0, 1, -12, 83)\"/>\n",
       "<path fill=\"none\" stroke-width=\"0.566929\" stroke-linecap=\"butt\" stroke-linejoin=\"miter\" stroke=\"rgb(0%, 0%, 0%)\" stroke-opacity=\"1\" stroke-miterlimit=\"10\" d=\"M 18.660156 -81.894531 C 23.097656 -81.625 27.40625 -81.367188 35.164062 -78.664062 \" transform=\"matrix(1, 0, 0, 1, -12, 83)\"/>\n",
       "<path fill-rule=\"evenodd\" fill=\"rgb(100%, 93%, 40%)\" fill-opacity=\"0.5\" d=\"M 38 33 C 39.085938 42.640625 39.085938 42.640625 40.171875 52.28125 C 44.480469 52.542969 48.789062 52.800781 55.234375 57.53125 C 46.617188 45.265625 46.617188 45.265625 38 33 Z M 38 33 \"/>\n",
       "<path fill=\"none\" stroke-width=\"0.566929\" stroke-linecap=\"butt\" stroke-linejoin=\"miter\" stroke=\"rgb(0%, 0%, 0%)\" stroke-opacity=\"1\" stroke-miterlimit=\"10\" d=\"M 52.042969 -30.726562 C 56.480469 -30.457031 60.789062 -30.199219 67.425781 -25.328125 \" transform=\"matrix(1, 0, 0, 1, -12, 83)\"/>\n",
       "<path fill-rule=\"evenodd\" fill=\"rgb(100%, 93%, 40%)\" fill-opacity=\"0.5\" d=\"M 2.445312 56.519531 C 6.753906 56.777344 11.0625 57.039062 18.59375 59.664062 C 28.296875 46.332031 28.296875 46.332031 38 33 C 30.46875 18.628906 30.46875 18.628906 22.9375 4.257812 C 13.234375 5.84375 8.925781 5.582031 4.617188 5.324219 C 3.53125 30.921875 3.53125 30.921875 2.445312 56.519531 Z M 2.445312 56.519531 \"/>\n",
       "<path fill=\"none\" stroke-width=\"0.566929\" stroke-linecap=\"butt\" stroke-linejoin=\"miter\" stroke=\"rgb(0%, 0%, 0%)\" stroke-opacity=\"1\" stroke-miterlimit=\"10\" d=\"M 16.488281 -77.683594 C 20.925781 -77.417969 25.234375 -77.15625 35.226562 -78.789062 \" transform=\"matrix(1, 0, 0, 1, -12, 83)\"/>\n",
       "<path fill=\"none\" stroke-width=\"0.566929\" stroke-linecap=\"butt\" stroke-linejoin=\"miter\" stroke=\"rgb(0%, 0%, 0%)\" stroke-opacity=\"1\" stroke-miterlimit=\"10\" d=\"M 14.316406 -26.488281 C 18.753906 -26.222656 23.0625 -25.960938 30.820312 -23.257812 \" transform=\"matrix(1, 0, 0, 1, -12, 83)\"/>\n",
       "<path fill-rule=\"evenodd\" fill=\"rgb(100%, 93%, 40%)\" fill-opacity=\"0.5\" d=\"M 38 33 C 39.085938 19.148438 39.085938 19.148438 40.171875 5.296875 C 35.863281 5.039062 31.554688 4.777344 22.9375 4.257812 C 30.46875 18.628906 30.46875 18.628906 38 33 Z M 38 33 \"/>\n",
       "<path fill=\"none\" stroke-width=\"0.566929\" stroke-linecap=\"butt\" stroke-linejoin=\"miter\" stroke=\"rgb(0%, 0%, 0%)\" stroke-opacity=\"1\" stroke-miterlimit=\"10\" d=\"M 52.300781 -77.695312 C 47.863281 -77.960938 43.554688 -78.222656 34.679688 -78.757812 \" transform=\"matrix(1, 0, 0, 1, -12, 83)\"/>\n",
       "<path fill=\"none\" stroke-width=\"1.133858\" stroke-linecap=\"butt\" stroke-linejoin=\"miter\" stroke=\"rgb(0%, 0%, 0%)\" stroke-opacity=\"1\" stroke-miterlimit=\"10\" d=\"M 34.9375 -78.742188 C 42.46875 -64.371094 42.46875 -64.371094 50 -50 \" transform=\"matrix(1, 0, 0, 1, -12, 83)\"/>\n",
       "<path fill-rule=\"evenodd\" fill=\"rgb(0%, 0%, 0%)\" fill-opacity=\"1\" d=\"M 24.636719 4.257812 C 24.636719 1.992188 21.234375 1.992188 21.234375 4.257812 C 21.234375 6.527344 24.636719 6.527344 24.636719 4.257812 Z M 24.636719 4.257812 \"/>\n",
       "<path fill-rule=\"evenodd\" fill=\"rgb(100%, 93%, 40%)\" fill-opacity=\"0.5\" d=\"M 38 33 C 36.914062 46.851562 36.914062 46.851562 35.828125 60.703125 C 40.136719 60.960938 44.445312 61.222656 55.234375 57.53125 C 46.617188 45.265625 46.617188 45.265625 38 33 Z M 38 33 \"/>\n",
       "<path fill=\"none\" stroke-width=\"0.566929\" stroke-linecap=\"butt\" stroke-linejoin=\"miter\" stroke=\"rgb(0%, 0%, 0%)\" stroke-opacity=\"1\" stroke-miterlimit=\"10\" d=\"M 47.699219 -22.304688 C 52.136719 -22.039062 56.445312 -21.777344 67.558594 -25.578125 \" transform=\"matrix(1, 0, 0, 1, -12, 83)\"/>\n",
       "<path fill-rule=\"evenodd\" fill=\"rgb(100%, 93%, 40%)\" fill-opacity=\"0.5\" d=\"M 38 33 C 36.914062 46.851562 36.914062 46.851562 35.828125 60.703125 C 31.519531 60.441406 27.210938 60.183594 18.59375 59.664062 C 28.296875 46.332031 28.296875 46.332031 38 33 Z M 38 33 \"/>\n",
       "<path fill=\"none\" stroke-width=\"0.566929\" stroke-linecap=\"butt\" stroke-linejoin=\"miter\" stroke=\"rgb(0%, 0%, 0%)\" stroke-opacity=\"1\" stroke-miterlimit=\"10\" d=\"M 47.957031 -22.289062 C 43.519531 -22.558594 39.210938 -22.816406 30.335938 -23.351562 \" transform=\"matrix(1, 0, 0, 1, -12, 83)\"/>\n",
       "<path fill-rule=\"evenodd\" fill=\"rgb(100%, 93%, 40%)\" fill-opacity=\"0.5\" d=\"M 38 33 C 39.085938 19.148438 39.085938 19.148438 40.171875 5.296875 C 44.480469 5.558594 48.789062 5.816406 55.234375 10.546875 C 46.617188 21.773438 46.617188 21.773438 38 33 Z M 38 33 \"/>\n",
       "<path fill-rule=\"evenodd\" fill=\"rgb(100%, 93%, 40%)\" fill-opacity=\"0.5\" d=\"M 72.46875 58.570312 C 68.160156 58.3125 63.851562 58.050781 55.234375 57.53125 C 46.617188 45.265625 46.617188 45.265625 38 33 C 46.617188 21.773438 46.617188 21.773438 55.234375 10.546875 C 63.851562 11.066406 68.160156 11.328125 72.46875 11.585938 C 72.46875 35.078125 72.46875 35.078125 72.46875 58.570312 Z M 72.46875 58.570312 \"/>\n",
       "<path fill=\"none\" stroke-width=\"0.566929\" stroke-linecap=\"butt\" stroke-linejoin=\"miter\" stroke=\"rgb(0%, 0%, 0%)\" stroke-opacity=\"1\" stroke-miterlimit=\"10\" d=\"M 84.597656 -24.421875 C 80.160156 -24.6875 75.851562 -24.949219 66.976562 -25.484375 \" transform=\"matrix(1, 0, 0, 1, -12, 83)\"/>\n",
       "<path fill=\"none\" stroke-width=\"1.133858\" stroke-linecap=\"butt\" stroke-linejoin=\"miter\" stroke=\"rgb(0%, 0%, 0%)\" stroke-opacity=\"1\" stroke-miterlimit=\"10\" d=\"M 67.234375 -25.46875 C 58.617188 -37.734375 58.617188 -37.734375 50 -50 \" transform=\"matrix(1, 0, 0, 1, -12, 83)\"/>\n",
       "<path fill=\"none\" stroke-width=\"0.566929\" stroke-linecap=\"butt\" stroke-linejoin=\"miter\" stroke=\"rgb(0%, 0%, 0%)\" stroke-opacity=\"1\" stroke-miterlimit=\"10\" d=\"M 52.042969 -77.710938 C 56.480469 -77.441406 60.789062 -77.183594 67.425781 -72.3125 \" transform=\"matrix(1, 0, 0, 1, -12, 83)\"/>\n",
       "<path fill-rule=\"evenodd\" fill=\"rgb(100%, 93%, 40%)\" fill-opacity=\"0.5\" d=\"M 0.277344 60.730469 C 4.585938 60.988281 8.894531 61.25 18.59375 59.664062 C 28.296875 46.332031 28.296875 46.332031 38 33 C 28.296875 22.839844 28.296875 22.839844 18.59375 12.679688 C 9.976562 12.160156 5.667969 11.898438 1.359375 11.640625 C 0.820312 36.183594 0.820312 36.183594 0.277344 60.730469 Z M 0.277344 60.730469 \"/>\n",
       "<path fill-rule=\"evenodd\" fill=\"rgb(0%, 0%, 0%)\" fill-opacity=\"1\" d=\"M 56.933594 57.53125 C 56.933594 55.265625 53.535156 55.265625 53.535156 57.53125 C 53.535156 59.800781 56.933594 59.800781 56.933594 57.53125 Z M 56.933594 57.53125 \"/>\n",
       "<path fill=\"none\" stroke-width=\"1.133858\" stroke-linecap=\"butt\" stroke-linejoin=\"miter\" stroke=\"rgb(0%, 0%, 0%)\" stroke-opacity=\"1\" stroke-miterlimit=\"10\" d=\"M 30.59375 -23.335938 C 40.296875 -36.667969 40.296875 -36.667969 50 -50 \" transform=\"matrix(1, 0, 0, 1, -12, 83)\"/>\n",
       "<path fill=\"none\" stroke-width=\"0.566929\" stroke-linecap=\"butt\" stroke-linejoin=\"miter\" stroke=\"rgb(0%, 0%, 0%)\" stroke-opacity=\"1\" stroke-miterlimit=\"10\" d=\"M 12.148438 -22.277344 C 16.585938 -22.011719 20.894531 -21.75 30.886719 -23.382812 \" transform=\"matrix(1, 0, 0, 1, -12, 83)\"/>\n",
       "<path fill-rule=\"evenodd\" fill=\"rgb(0%, 0%, 0%)\" fill-opacity=\"1\" d=\"M 20.296875 59.664062 C 20.296875 57.394531 16.894531 57.394531 16.894531 59.664062 C 16.894531 61.929688 20.296875 61.929688 20.296875 59.664062 Z M 20.296875 59.664062 \"/>\n",
       "<path fill-rule=\"evenodd\" fill=\"rgb(100%, 93%, 40%)\" fill-opacity=\"0.5\" d=\"M 38 33 C 36.914062 23.359375 36.914062 23.359375 35.828125 13.71875 C 40.136719 13.976562 44.445312 14.238281 55.234375 10.546875 C 46.617188 21.773438 46.617188 21.773438 38 33 Z M 38 33 \"/>\n",
       "<path fill=\"none\" stroke-width=\"1.133858\" stroke-linecap=\"butt\" stroke-linejoin=\"miter\" stroke=\"rgb(0%, 0%, 0%)\" stroke-opacity=\"1\" stroke-miterlimit=\"10\" d=\"M 67.234375 -72.453125 C 58.617188 -61.226562 58.617188 -61.226562 50 -50 \" transform=\"matrix(1, 0, 0, 1, -12, 83)\"/>\n",
       "<path fill-rule=\"evenodd\" fill=\"rgb(100%, 93%, 40%)\" fill-opacity=\"0.5\" d=\"M 38 33 C 36.914062 23.359375 36.914062 23.359375 35.828125 13.71875 C 31.519531 13.457031 27.210938 13.199219 18.59375 12.679688 C 28.296875 22.839844 28.296875 22.839844 38 33 Z M 38 33 \"/>\n",
       "<path fill=\"none\" stroke-width=\"0.566929\" stroke-linecap=\"butt\" stroke-linejoin=\"miter\" stroke=\"rgb(0%, 0%, 0%)\" stroke-opacity=\"1\" stroke-miterlimit=\"10\" d=\"M 47.957031 -69.273438 C 43.519531 -69.542969 39.210938 -69.800781 30.335938 -70.335938 \" transform=\"matrix(1, 0, 0, 1, -12, 83)\"/>\n",
       "<path fill=\"none\" stroke-width=\"0.566929\" stroke-linecap=\"butt\" stroke-linejoin=\"miter\" stroke=\"rgb(0%, 0%, 0%)\" stroke-opacity=\"1\" stroke-miterlimit=\"10\" d=\"M 84.597656 -71.40625 C 80.160156 -71.671875 75.851562 -71.933594 66.976562 -72.46875 \" transform=\"matrix(1, 0, 0, 1, -12, 83)\"/>\n",
       "<path fill-rule=\"evenodd\" fill=\"rgb(0%, 0%, 0%)\" fill-opacity=\"1\" d=\"M 40.269531 33 C 40.269531 29.976562 35.730469 29.976562 35.730469 33 C 35.730469 36.023438 40.269531 36.023438 40.269531 33 Z M 40.269531 33 \"/>\n",
       "<path fill=\"none\" stroke-width=\"0.566929\" stroke-linecap=\"butt\" stroke-linejoin=\"miter\" stroke=\"rgb(0%, 0%, 0%)\" stroke-opacity=\"1\" stroke-miterlimit=\"10\" d=\"M 13.230469 -71.367188 C 17.667969 -71.101562 21.976562 -70.839844 30.855469 -70.304688 \" transform=\"matrix(1, 0, 0, 1, -12, 83)\"/>\n",
       "<path fill=\"none\" stroke-width=\"0.566929\" stroke-linecap=\"butt\" stroke-linejoin=\"miter\" stroke=\"rgb(0%, 0%, 0%)\" stroke-opacity=\"1\" stroke-miterlimit=\"10\" d=\"M 47.699219 -69.289062 C 52.136719 -69.023438 56.445312 -68.761719 67.558594 -72.5625 \" transform=\"matrix(1, 0, 0, 1, -12, 83)\"/>\n",
       "<path fill-rule=\"evenodd\" fill=\"rgb(0%, 0%, 0%)\" fill-opacity=\"1\" d=\"M 56.933594 10.546875 C 56.933594 8.28125 53.535156 8.28125 53.535156 10.546875 C 53.535156 12.816406 56.933594 12.816406 56.933594 10.546875 Z M 56.933594 10.546875 \"/>\n",
       "</svg>\n"
      ],
      "text/plain": [
       "Cell2(((((m<---m)@(m@m<---m))<<(m@m<---m))<===(((m@m<---m)@(m<---m))<<(m@m<---m))))"
      ]
     },
     "execution_count": 13,
     "metadata": {},
     "output_type": "execute_result"
    }
   ],
   "source": [
    "m_m = Cell1(m, m, pip_color=None, stroke=None)\n",
    "mm_m = Cell1(m @ m, m)\n",
    "top = (m_m @ mm_m) << (mm_m)\n",
    "bot = (mm_m @ m_m) << (mm_m)\n",
    "assoc = Cell2(top, bot, cone=1.)\n",
    "assoc"
   ]
  }
 ],
 "metadata": {
  "kernelspec": {
   "display_name": "Python 3 (ipykernel)",
   "language": "python",
   "name": "python3"
  },
  "language_info": {
   "codemirror_mode": {
    "name": "ipython",
    "version": 3
   },
   "file_extension": ".py",
   "mimetype": "text/x-python",
   "name": "python",
   "nbconvert_exporter": "python",
   "pygments_lexer": "ipython3",
   "version": "3.12.4"
  }
 },
 "nbformat": 4,
 "nbformat_minor": 5
}
